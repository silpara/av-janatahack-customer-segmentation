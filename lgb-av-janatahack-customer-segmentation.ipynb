{
 "cells": [
  {
   "cell_type": "markdown",
   "metadata": {},
   "source": [
    "# Analytics Vidhya's Janatahack: Customer Segmentation Hackathon"
   ]
  },
  {
   "cell_type": "code",
   "execution_count": 1,
   "metadata": {},
   "outputs": [],
   "source": [
    "import lightgbm as lgb\n",
    "import pandas as pd\n",
    "import numpy as np\n",
    "import os\n",
    "from matplotlib import pyplot as plt\n",
    "from sklearn import preprocessing\n",
    "from sklearn.model_selection import train_test_split\n",
    "from sklearn.metrics import roc_auc_score, accuracy_score, log_loss, classification_report\n",
    "from collections import Counter\n",
    "from sklearn.impute import KNNImputer"
   ]
  },
  {
   "cell_type": "code",
   "execution_count": 2,
   "metadata": {},
   "outputs": [],
   "source": [
    "df_train = pd.read_csv('data/Train.csv', header=0)\n",
    "df_test = pd.read_csv('data/Test.csv', header=0)\n",
    "submission = pd.read_csv('data/sample_submission.csv', header=0)"
   ]
  },
  {
   "cell_type": "code",
   "execution_count": 3,
   "metadata": {},
   "outputs": [
    {
     "name": "stdout",
     "output_type": "stream",
     "text": [
      "(8068, 11) (2627, 10) (2627, 2)\n"
     ]
    }
   ],
   "source": [
    "print(df_train.shape, df_test.shape, submission.shape)"
   ]
  },
  {
   "cell_type": "code",
   "execution_count": 4,
   "metadata": {},
   "outputs": [
    {
     "data": {
      "text/plain": [
       "Index(['ID', 'Gender', 'Ever_Married', 'Age', 'Graduated', 'Profession',\n",
       "       'Work_Experience', 'Spending_Score', 'Family_Size', 'Var_1',\n",
       "       'Segmentation'],\n",
       "      dtype='object')"
      ]
     },
     "execution_count": 4,
     "metadata": {},
     "output_type": "execute_result"
    }
   ],
   "source": [
    "df_train.columns"
   ]
  },
  {
   "cell_type": "code",
   "execution_count": 5,
   "metadata": {},
   "outputs": [],
   "source": [
    "label_col = 'Segmentation'"
   ]
  },
  {
   "cell_type": "code",
   "execution_count": 6,
   "metadata": {},
   "outputs": [],
   "source": [
    "df_test = pd.merge(df_test, df_train[['ID', label_col]], on='ID', how='left')"
   ]
  },
  {
   "cell_type": "code",
   "execution_count": 7,
   "metadata": {},
   "outputs": [
    {
     "data": {
      "text/plain": [
       "(2627, 11)"
      ]
     },
     "execution_count": 7,
     "metadata": {},
     "output_type": "execute_result"
    }
   ],
   "source": [
    "df_test.shape"
   ]
  },
  {
   "cell_type": "code",
   "execution_count": 8,
   "metadata": {},
   "outputs": [
    {
     "data": {
      "text/html": [
       "<div>\n",
       "<style scoped>\n",
       "    .dataframe tbody tr th:only-of-type {\n",
       "        vertical-align: middle;\n",
       "    }\n",
       "\n",
       "    .dataframe tbody tr th {\n",
       "        vertical-align: top;\n",
       "    }\n",
       "\n",
       "    .dataframe thead th {\n",
       "        text-align: right;\n",
       "    }\n",
       "</style>\n",
       "<table border=\"1\" class=\"dataframe\">\n",
       "  <thead>\n",
       "    <tr style=\"text-align: right;\">\n",
       "      <th></th>\n",
       "      <th>ID</th>\n",
       "      <th>Gender</th>\n",
       "      <th>Ever_Married</th>\n",
       "      <th>Age</th>\n",
       "      <th>Graduated</th>\n",
       "      <th>Profession</th>\n",
       "      <th>Work_Experience</th>\n",
       "      <th>Spending_Score</th>\n",
       "      <th>Family_Size</th>\n",
       "      <th>Var_1</th>\n",
       "      <th>Segmentation</th>\n",
       "    </tr>\n",
       "  </thead>\n",
       "  <tbody>\n",
       "    <tr>\n",
       "      <th>0</th>\n",
       "      <td>458989</td>\n",
       "      <td>Female</td>\n",
       "      <td>Yes</td>\n",
       "      <td>36</td>\n",
       "      <td>Yes</td>\n",
       "      <td>Engineer</td>\n",
       "      <td>0.0</td>\n",
       "      <td>Low</td>\n",
       "      <td>1.0</td>\n",
       "      <td>Cat_6</td>\n",
       "      <td>B</td>\n",
       "    </tr>\n",
       "    <tr>\n",
       "      <th>1</th>\n",
       "      <td>458994</td>\n",
       "      <td>Male</td>\n",
       "      <td>Yes</td>\n",
       "      <td>37</td>\n",
       "      <td>Yes</td>\n",
       "      <td>Healthcare</td>\n",
       "      <td>8.0</td>\n",
       "      <td>Average</td>\n",
       "      <td>4.0</td>\n",
       "      <td>Cat_6</td>\n",
       "      <td>C</td>\n",
       "    </tr>\n",
       "    <tr>\n",
       "      <th>2</th>\n",
       "      <td>458996</td>\n",
       "      <td>Female</td>\n",
       "      <td>Yes</td>\n",
       "      <td>69</td>\n",
       "      <td>No</td>\n",
       "      <td>NaN</td>\n",
       "      <td>0.0</td>\n",
       "      <td>Low</td>\n",
       "      <td>1.0</td>\n",
       "      <td>Cat_6</td>\n",
       "      <td>A</td>\n",
       "    </tr>\n",
       "    <tr>\n",
       "      <th>3</th>\n",
       "      <td>459000</td>\n",
       "      <td>Male</td>\n",
       "      <td>Yes</td>\n",
       "      <td>59</td>\n",
       "      <td>No</td>\n",
       "      <td>Executive</td>\n",
       "      <td>11.0</td>\n",
       "      <td>High</td>\n",
       "      <td>2.0</td>\n",
       "      <td>Cat_6</td>\n",
       "      <td>C</td>\n",
       "    </tr>\n",
       "    <tr>\n",
       "      <th>4</th>\n",
       "      <td>459001</td>\n",
       "      <td>Female</td>\n",
       "      <td>No</td>\n",
       "      <td>19</td>\n",
       "      <td>No</td>\n",
       "      <td>Marketing</td>\n",
       "      <td>NaN</td>\n",
       "      <td>Low</td>\n",
       "      <td>4.0</td>\n",
       "      <td>Cat_6</td>\n",
       "      <td>C</td>\n",
       "    </tr>\n",
       "  </tbody>\n",
       "</table>\n",
       "</div>"
      ],
      "text/plain": [
       "       ID  Gender Ever_Married  Age Graduated  Profession  Work_Experience  \\\n",
       "0  458989  Female          Yes   36       Yes    Engineer              0.0   \n",
       "1  458994    Male          Yes   37       Yes  Healthcare              8.0   \n",
       "2  458996  Female          Yes   69        No         NaN              0.0   \n",
       "3  459000    Male          Yes   59        No   Executive             11.0   \n",
       "4  459001  Female           No   19        No   Marketing              NaN   \n",
       "\n",
       "  Spending_Score  Family_Size  Var_1 Segmentation  \n",
       "0            Low          1.0  Cat_6            B  \n",
       "1        Average          4.0  Cat_6            C  \n",
       "2            Low          1.0  Cat_6            A  \n",
       "3           High          2.0  Cat_6            C  \n",
       "4            Low          4.0  Cat_6            C  "
      ]
     },
     "execution_count": 8,
     "metadata": {},
     "output_type": "execute_result"
    }
   ],
   "source": [
    "df_test.head()"
   ]
  },
  {
   "cell_type": "markdown",
   "metadata": {},
   "source": [
    "## Lookup labels from training data\n",
    "\n",
    "If you look at train and test data you will find ID's which are common to both. In fact, 2332 out of 2627 (i.e. 88.77%!) are present in training data itself. You can just look-up label for these instead of using a model."
   ]
  },
  {
   "cell_type": "code",
   "execution_count": 9,
   "metadata": {},
   "outputs": [],
   "source": [
    "df_test, df_test_common = df_test[pd.isna(df_test[label_col])], df_test[pd.notna(df_test[label_col])]"
   ]
  },
  {
   "cell_type": "code",
   "execution_count": 10,
   "metadata": {},
   "outputs": [
    {
     "name": "stdout",
     "output_type": "stream",
     "text": [
      "(295, 11) (2332, 11)\n"
     ]
    }
   ],
   "source": [
    "print(df_test.shape, df_test_common.shape)"
   ]
  },
  {
   "cell_type": "code",
   "execution_count": 11,
   "metadata": {},
   "outputs": [
    {
     "name": "stdout",
     "output_type": "stream",
     "text": [
      "['Gender', 'Ever_Married', 'Graduated', 'Profession', 'Spending_Score', 'Var_1', 'Segmentation']\n"
     ]
    }
   ],
   "source": [
    "cat_cols = df_train.select_dtypes(include='object').columns.tolist()\n",
    "print(cat_cols)"
   ]
  },
  {
   "cell_type": "markdown",
   "metadata": {},
   "source": [
    "## Encode Categorical Variables"
   ]
  },
  {
   "cell_type": "code",
   "execution_count": 12,
   "metadata": {},
   "outputs": [],
   "source": [
    "label_encoders = {}\n",
    "for feature in cat_cols:\n",
    "    if feature == label_col:\n",
    "        le = preprocessing.LabelEncoder()\n",
    "        le.fit(df_train.loc[pd.notna(df_train[feature]), feature].unique())\n",
    "        label_encoders[feature] = le\n",
    "    else:\n",
    "        le = preprocessing.LabelEncoder()\n",
    "        le.fit(pd.concat((df_train.loc[pd.notna(df_train[feature]), feature], df_test.loc[pd.notna(df_test[feature]), feature])).unique())\n",
    "        label_encoders[feature] = le"
   ]
  },
  {
   "cell_type": "code",
   "execution_count": 13,
   "metadata": {},
   "outputs": [],
   "source": [
    "missing_impute = -999"
   ]
  },
  {
   "cell_type": "code",
   "execution_count": 14,
   "metadata": {},
   "outputs": [
    {
     "name": "stdout",
     "output_type": "stream",
     "text": [
      "Gender\n",
      "Ever_Married\n",
      "Graduated\n",
      "Profession\n",
      "Spending_Score\n",
      "Var_1\n",
      "Segmentation\n"
     ]
    }
   ],
   "source": [
    "for feature in cat_cols:\n",
    "    print(feature)\n",
    "    if feature == label_col:\n",
    "        df_train[feature] = label_encoders[feature].transform(df_train[feature])\n",
    "    else:\n",
    "        df_train[feature] = df_train[feature].apply(lambda x: x if pd.isna(x) else label_encoders[feature].transform([x])[0])\n",
    "        df_test[feature] = df_test[feature].apply(lambda x: x if pd.isna(x) else label_encoders[feature].transform([x])[0])"
   ]
  },
  {
   "cell_type": "code",
   "execution_count": 15,
   "metadata": {},
   "outputs": [],
   "source": [
    "cat_cols.remove(label_col)"
   ]
  },
  {
   "cell_type": "code",
   "execution_count": 16,
   "metadata": {},
   "outputs": [
    {
     "name": "stdout",
     "output_type": "stream",
     "text": [
      "['Gender', 'Ever_Married', 'Graduated', 'Profession', 'Spending_Score', 'Var_1']\n"
     ]
    }
   ],
   "source": [
    "print(cat_cols)"
   ]
  },
  {
   "cell_type": "code",
   "execution_count": 17,
   "metadata": {},
   "outputs": [
    {
     "name": "stdout",
     "output_type": "stream",
     "text": [
      "Index(['ID', 'Gender', 'Ever_Married', 'Age', 'Graduated', 'Profession',\n",
      "       'Work_Experience', 'Spending_Score', 'Family_Size', 'Var_1',\n",
      "       'Segmentation'],\n",
      "      dtype='object') Index(['ID', 'Gender', 'Ever_Married', 'Age', 'Graduated', 'Profession',\n",
      "       'Work_Experience', 'Spending_Score', 'Family_Size', 'Var_1',\n",
      "       'Segmentation'],\n",
      "      dtype='object')\n",
      "(8068, 11) (295, 11)\n"
     ]
    }
   ],
   "source": [
    "print(df_train.columns, df_test.columns)\n",
    "print(df_train.shape, df_test.shape)"
   ]
  },
  {
   "cell_type": "code",
   "execution_count": 18,
   "metadata": {},
   "outputs": [
    {
     "name": "stdout",
     "output_type": "stream",
     "text": [
      "(8363, 11)\n"
     ]
    }
   ],
   "source": [
    "df_train_test = pd.concat((df_train, df_test))\n",
    "print(df_train_test.shape)"
   ]
  },
  {
   "cell_type": "code",
   "execution_count": 19,
   "metadata": {},
   "outputs": [
    {
     "data": {
      "text/plain": [
       "ID                   0\n",
       "Gender               0\n",
       "Ever_Married       144\n",
       "Age                  0\n",
       "Graduated           80\n",
       "Profession         128\n",
       "Work_Experience    857\n",
       "Spending_Score       0\n",
       "Family_Size        344\n",
       "Var_1               80\n",
       "Segmentation       295\n",
       "dtype: int64"
      ]
     },
     "execution_count": 19,
     "metadata": {},
     "output_type": "execute_result"
    }
   ],
   "source": [
    "df_train_test.apply(lambda x: sum(pd.isna(x)), axis=0)"
   ]
  },
  {
   "cell_type": "code",
   "execution_count": 20,
   "metadata": {},
   "outputs": [
    {
     "data": {
      "text/plain": [
       "ID                   int64\n",
       "Gender               int64\n",
       "Ever_Married       float64\n",
       "Age                  int64\n",
       "Graduated          float64\n",
       "Profession         float64\n",
       "Work_Experience    float64\n",
       "Spending_Score       int64\n",
       "Family_Size        float64\n",
       "Var_1              float64\n",
       "Segmentation        object\n",
       "dtype: object"
      ]
     },
     "execution_count": 20,
     "metadata": {},
     "output_type": "execute_result"
    }
   ],
   "source": [
    "df_train_test.dtypes"
   ]
  },
  {
   "cell_type": "code",
   "execution_count": 21,
   "metadata": {},
   "outputs": [],
   "source": [
    "df_train_test['any_missing_flag'] = df_train_test.apply(lambda x: np.any(pd.isna(x)), axis=1).astype('int')"
   ]
  },
  {
   "cell_type": "code",
   "execution_count": 22,
   "metadata": {
    "scrolled": true
   },
   "outputs": [
    {
     "name": "stdout",
     "output_type": "stream",
     "text": [
      "CPU times: user 2.15 s, sys: 303 ms, total: 2.45 s\n",
      "Wall time: 757 ms\n"
     ]
    }
   ],
   "source": [
    "%%time\n",
    "imputer = KNNImputer(n_neighbors=1, weights='distance')\n",
    "df_train_test[['Gender', 'Ever_Married', 'Age', 'Graduated', 'Profession', 'Work_Experience', 'Spending_Score', 'Family_Size', 'Var_1']] = imputer.fit_transform(df_train_test[['Gender', 'Ever_Married', 'Age', 'Graduated', 'Profession', 'Work_Experience', 'Spending_Score', 'Family_Size', 'Var_1']])"
   ]
  },
  {
   "cell_type": "code",
   "execution_count": 23,
   "metadata": {},
   "outputs": [
    {
     "data": {
      "text/plain": [
       "ID                    0\n",
       "Gender                0\n",
       "Ever_Married          0\n",
       "Age                   0\n",
       "Graduated             0\n",
       "Profession            0\n",
       "Work_Experience       0\n",
       "Spending_Score        0\n",
       "Family_Size           0\n",
       "Var_1                 0\n",
       "Segmentation        295\n",
       "any_missing_flag      0\n",
       "dtype: int64"
      ]
     },
     "execution_count": 23,
     "metadata": {},
     "output_type": "execute_result"
    }
   ],
   "source": [
    "df_train_test.apply(lambda x: sum(pd.isna(x)), axis=0)"
   ]
  },
  {
   "cell_type": "code",
   "execution_count": 24,
   "metadata": {},
   "outputs": [
    {
     "data": {
      "text/plain": [
       "ID                    int64\n",
       "Gender              float64\n",
       "Ever_Married        float64\n",
       "Age                 float64\n",
       "Graduated           float64\n",
       "Profession          float64\n",
       "Work_Experience     float64\n",
       "Spending_Score      float64\n",
       "Family_Size         float64\n",
       "Var_1               float64\n",
       "Segmentation         object\n",
       "any_missing_flag      int64\n",
       "dtype: object"
      ]
     },
     "execution_count": 24,
     "metadata": {},
     "output_type": "execute_result"
    }
   ],
   "source": [
    "df_train_test.dtypes"
   ]
  },
  {
   "cell_type": "markdown",
   "metadata": {},
   "source": [
    "## Convert Variables Back to int"
   ]
  },
  {
   "cell_type": "code",
   "execution_count": 25,
   "metadata": {},
   "outputs": [],
   "source": [
    "df_train_test['Gender'] = df_train_test['Gender'].apply(np.round).astype('int')\n",
    "df_train_test['Ever_Married'] = df_train_test['Ever_Married'].apply(np.round).astype('int')\n",
    "df_train_test['Graduated'] = df_train_test['Graduated'].apply(np.round).astype('int')\n",
    "df_train_test['Age'] = df_train_test['Age'].apply(np.round).astype('int')\n",
    "df_train_test['Profession'] = df_train_test['Profession'].apply(np.round).astype('int')\n",
    "df_train_test['Work_Experience'] = df_train_test['Work_Experience'].apply(np.round).astype('int')\n",
    "df_train_test['Spending_Score'] = df_train_test['Spending_Score'].apply(np.round).astype('int')\n",
    "df_train_test['Family_Size'] = df_train_test['Family_Size'].apply(np.round).astype('int')\n",
    "df_train_test['Var_1'] = df_train_test['Var_1'].apply(np.round).astype('int')"
   ]
  },
  {
   "cell_type": "code",
   "execution_count": 26,
   "metadata": {},
   "outputs": [],
   "source": [
    "df_train_test.to_csv('data/df_train_test_imputed.csv', index=None)"
   ]
  },
  {
   "cell_type": "markdown",
   "metadata": {},
   "source": [
    "## Feature engineering\n",
    "\n",
    "Features by merging train and test data can be created only in a competition such as this :)\n",
    "\n",
    "count based, unique counts, mean and std feature"
   ]
  },
  {
   "cell_type": "code",
   "execution_count": 27,
   "metadata": {},
   "outputs": [],
   "source": [
    "# count features\n",
    "df_train_test = pd.merge(df_train_test, df_train_test.groupby(['Gender', 'Ever_Married'])['Segmentation'].count().reset_index().rename(columns={'Segmentation': 'Gender_Ever_Married_Count'}), on=['Gender', 'Ever_Married'])\n",
    "\n",
    "df_train_test = pd.merge(df_train_test, df_train_test.groupby(['Ever_Married', 'Graduated'])['Segmentation'].count().reset_index().rename(columns={'Segmentation': 'Ever_Married_Graduated_Count'}), on=['Ever_Married', 'Graduated'])"
   ]
  },
  {
   "cell_type": "code",
   "execution_count": 28,
   "metadata": {},
   "outputs": [],
   "source": [
    "# unique counts\n",
    "df_train_test['Gender_Unique_Professions']=df_train_test.groupby(['Gender'])['Profession'].transform('nunique')\n",
    "df_train_test['Gender_Unique_Var_1']=df_train_test.groupby(['Gender'])['Var_1'].transform('nunique')\n",
    "\n",
    "df_train_test['Graduated_Unique_Professions']=df_train_test.groupby(['Graduated'])['Profession'].transform('nunique')\n",
    "df_train_test['Graduated_Unique_Var_1']=df_train_test.groupby(['Graduated'])['Var_1'].transform('nunique')\n",
    "\n",
    "df_train_test['Ever_Married_Unique_Professions']=df_train_test.groupby(['Ever_Married'])['Profession'].transform('nunique')\n",
    "df_train_test['Ever_Married_Unique_Var_1']=df_train_test.groupby(['Ever_Married'])['Var_1'].transform('nunique')\n",
    "\n",
    "df_train_test['Gender_Unique_Professions']=df_train_test.groupby(['Gender'])['Profession'].transform('nunique')\n",
    "df_train_test['Gender_Unique_Var_1']=df_train_test.groupby(['Gender'])['Var_1'].transform('nunique')\n"
   ]
  },
  {
   "cell_type": "code",
   "execution_count": 29,
   "metadata": {},
   "outputs": [],
   "source": [
    "# mean features\n",
    "df_train_test['Gender_Mean_Age']=df_train_test.groupby(['Gender'])['Age'].transform(np.nanmean)\n",
    "df_train_test['Gender_Mean_Family_Size']=df_train_test.groupby(['Gender'])['Family_Size'].transform(np.nanmean)\n",
    "df_train_test['Gender_Mean_Work_Experience']=df_train_test.groupby(['Gender'])['Work_Experience'].transform(np.nanmean)\n",
    "\n",
    "\n",
    "df_train_test['Profession_Mean_Age']=df_train_test.groupby(['Profession'])['Age'].transform(np.nanmean)\n",
    "df_train_test['Profession_Mean_Family_Size']=df_train_test.groupby(['Profession'])['Family_Size'].transform(np.nanmean)\n",
    "df_train_test['Profession_Mean_Work_Experience']=df_train_test.groupby(['Profession'])['Work_Experience'].transform(np.nanmean)\n",
    "\n",
    "\n",
    "df_train_test['Ever_Married_Mean_Age']=df_train_test.groupby(['Ever_Married'])['Age'].transform(np.nanmean)\n",
    "df_train_test['Ever_Married_Mean_Family_Size']=df_train_test.groupby(['Ever_Married'])['Family_Size'].transform(np.nanmean)\n",
    "df_train_test['Ever_Married_Mean_Work_Experience']=df_train_test.groupby(['Ever_Married'])['Work_Experience'].transform(np.nanmean)\n",
    "\n",
    "\n",
    "df_train_test['Graduated_Mean_Age']=df_train_test.groupby(['Graduated'])['Age'].transform(np.nanmean)\n",
    "df_train_test['Graduated_Mean_Family_Size']=df_train_test.groupby(['Graduated'])['Family_Size'].transform(np.nanmean)\n",
    "df_train_test['Graduated_Mean_Work_Experience']=df_train_test.groupby(['Graduated'])['Work_Experience'].transform(np.nanmean)"
   ]
  },
  {
   "cell_type": "code",
   "execution_count": 30,
   "metadata": {},
   "outputs": [],
   "source": [
    "# std features\n",
    "df_train_test['Gender_Std_Age']=df_train_test.groupby(['Gender'])['Age'].transform(np.nanstd)\n",
    "df_train_test['Gender_Std_Family_Size']=df_train_test.groupby(['Gender'])['Family_Size'].transform(np.nanstd)\n",
    "df_train_test['Gender_Std_Work_Experience']=df_train_test.groupby(['Gender'])['Work_Experience'].transform(np.nanstd)\n",
    "\n",
    "\n",
    "df_train_test['Profession_Std_Age']=df_train_test.groupby(['Profession'])['Age'].transform(np.nanstd)\n",
    "df_train_test['Profession_Std_Family_Size']=df_train_test.groupby(['Profession'])['Family_Size'].transform(np.nanstd)\n",
    "df_train_test['Profession_Std_Work_Experience']=df_train_test.groupby(['Profession'])['Work_Experience'].transform(np.nanstd)\n",
    "\n",
    "\n",
    "df_train_test['Ever_Married_Std_Age']=df_train_test.groupby(['Ever_Married'])['Age'].transform(np.nanstd)\n",
    "df_train_test['Ever_Married_Std_Family_Size']=df_train_test.groupby(['Ever_Married'])['Family_Size'].transform(np.nanstd)\n",
    "df_train_test['Ever_Married_Std_Work_Experience']=df_train_test.groupby(['Ever_Married'])['Work_Experience'].transform(np.nanstd)\n",
    "\n",
    "\n",
    "df_train_test['Graduated_Std_Age']=df_train_test.groupby(['Graduated'])['Age'].transform(np.nanstd)\n",
    "df_train_test['Graduated_Std_Family_Size']=df_train_test.groupby(['Graduated'])['Family_Size'].transform(np.nanstd)\n",
    "df_train_test['Graduated_Std_Work_Experience']=df_train_test.groupby(['Graduated'])['Work_Experience'].transform(np.nanstd)"
   ]
  },
  {
   "cell_type": "code",
   "execution_count": 31,
   "metadata": {},
   "outputs": [
    {
     "data": {
      "text/plain": [
       "(8363, 44)"
      ]
     },
     "execution_count": 31,
     "metadata": {},
     "output_type": "execute_result"
    }
   ],
   "source": [
    "df_train_test.shape"
   ]
  },
  {
   "cell_type": "code",
   "execution_count": 32,
   "metadata": {},
   "outputs": [],
   "source": [
    "df_train, df_test = df_train_test[pd.notna(df_train_test[label_col])], df_train_test[pd.isna(df_train_test[label_col])]"
   ]
  },
  {
   "cell_type": "code",
   "execution_count": 33,
   "metadata": {},
   "outputs": [
    {
     "name": "stdout",
     "output_type": "stream",
     "text": [
      "Index(['ID', 'Gender', 'Ever_Married', 'Age', 'Graduated', 'Profession',\n",
      "       'Work_Experience', 'Spending_Score', 'Family_Size', 'Var_1',\n",
      "       'Segmentation', 'any_missing_flag', 'Gender_Ever_Married_Count',\n",
      "       'Ever_Married_Graduated_Count', 'Gender_Unique_Professions',\n",
      "       'Gender_Unique_Var_1', 'Graduated_Unique_Professions',\n",
      "       'Graduated_Unique_Var_1', 'Ever_Married_Unique_Professions',\n",
      "       'Ever_Married_Unique_Var_1', 'Gender_Mean_Age',\n",
      "       'Gender_Mean_Family_Size', 'Gender_Mean_Work_Experience',\n",
      "       'Profession_Mean_Age', 'Profession_Mean_Family_Size',\n",
      "       'Profession_Mean_Work_Experience', 'Ever_Married_Mean_Age',\n",
      "       'Ever_Married_Mean_Family_Size', 'Ever_Married_Mean_Work_Experience',\n",
      "       'Graduated_Mean_Age', 'Graduated_Mean_Family_Size',\n",
      "       'Graduated_Mean_Work_Experience', 'Gender_Std_Age',\n",
      "       'Gender_Std_Family_Size', 'Gender_Std_Work_Experience',\n",
      "       'Profession_Std_Age', 'Profession_Std_Family_Size',\n",
      "       'Profession_Std_Work_Experience', 'Ever_Married_Std_Age',\n",
      "       'Ever_Married_Std_Family_Size', 'Ever_Married_Std_Work_Experience',\n",
      "       'Graduated_Std_Age', 'Graduated_Std_Family_Size',\n",
      "       'Graduated_Std_Work_Experience'],\n",
      "      dtype='object') Index(['ID', 'Gender', 'Ever_Married', 'Age', 'Graduated', 'Profession',\n",
      "       'Work_Experience', 'Spending_Score', 'Family_Size', 'Var_1',\n",
      "       'Segmentation', 'any_missing_flag', 'Gender_Ever_Married_Count',\n",
      "       'Ever_Married_Graduated_Count', 'Gender_Unique_Professions',\n",
      "       'Gender_Unique_Var_1', 'Graduated_Unique_Professions',\n",
      "       'Graduated_Unique_Var_1', 'Ever_Married_Unique_Professions',\n",
      "       'Ever_Married_Unique_Var_1', 'Gender_Mean_Age',\n",
      "       'Gender_Mean_Family_Size', 'Gender_Mean_Work_Experience',\n",
      "       'Profession_Mean_Age', 'Profession_Mean_Family_Size',\n",
      "       'Profession_Mean_Work_Experience', 'Ever_Married_Mean_Age',\n",
      "       'Ever_Married_Mean_Family_Size', 'Ever_Married_Mean_Work_Experience',\n",
      "       'Graduated_Mean_Age', 'Graduated_Mean_Family_Size',\n",
      "       'Graduated_Mean_Work_Experience', 'Gender_Std_Age',\n",
      "       'Gender_Std_Family_Size', 'Gender_Std_Work_Experience',\n",
      "       'Profession_Std_Age', 'Profession_Std_Family_Size',\n",
      "       'Profession_Std_Work_Experience', 'Ever_Married_Std_Age',\n",
      "       'Ever_Married_Std_Family_Size', 'Ever_Married_Std_Work_Experience',\n",
      "       'Graduated_Std_Age', 'Graduated_Std_Family_Size',\n",
      "       'Graduated_Std_Work_Experience'],\n",
      "      dtype='object')\n",
      "(8068, 44) (295, 44)\n"
     ]
    }
   ],
   "source": [
    "print(df_train.columns, df_test.columns)\n",
    "print(df_train.shape, df_test.shape)"
   ]
  },
  {
   "cell_type": "code",
   "execution_count": 34,
   "metadata": {},
   "outputs": [
    {
     "name": "stderr",
     "output_type": "stream",
     "text": [
      "/Users/abhay.shukla/anaconda3/lib/python3.7/site-packages/pandas/core/frame.py:3997: SettingWithCopyWarning: \n",
      "A value is trying to be set on a copy of a slice from a DataFrame\n",
      "\n",
      "See the caveats in the documentation: https://pandas.pydata.org/pandas-docs/stable/user_guide/indexing.html#returning-a-view-versus-a-copy\n",
      "  errors=errors,\n"
     ]
    }
   ],
   "source": [
    "df_test.drop([label_col], axis=1, inplace=True)"
   ]
  },
  {
   "cell_type": "markdown",
   "metadata": {},
   "source": [
    "## Impute Family_Size and Work_Experience"
   ]
  },
  {
   "cell_type": "code",
   "execution_count": 35,
   "metadata": {},
   "outputs": [],
   "source": [
    "# df_train = df_train.fillna(missing_impute)\n",
    "# df_test = df_test.fillna(missing_impute)"
   ]
  },
  {
   "cell_type": "code",
   "execution_count": 36,
   "metadata": {},
   "outputs": [],
   "source": [
    "# Family_Size_Impute = np.nanmedian(df_train['Family_Size'].tolist() + df_test['Family_Size'].tolist())\n",
    "# Work_Experience_Impute = np.nanmedian(df_train['Work_Experience'].tolist() + df_test['Work_Experience'].tolist())\n",
    "\n",
    "# df_train['Family_Size'] = df_train['Family_Size'].fillna(Family_Size_Impute)\n",
    "# df_test['Family_Size'] = df_test['Family_Size'].fillna(Family_Size_Impute)\n",
    "\n",
    "# df_train['Work_Experience'] = df_train['Work_Experience'].fillna(Work_Experience_Impute)\n",
    "# df_test['Work_Experience'] = df_test['Work_Experience'].fillna(Work_Experience_Impute)"
   ]
  },
  {
   "cell_type": "markdown",
   "metadata": {},
   "source": [
    "## Define Stratification Strategy"
   ]
  },
  {
   "cell_type": "code",
   "execution_count": 37,
   "metadata": {},
   "outputs": [],
   "source": [
    "stratify_key = df_train['Segmentation']"
   ]
  },
  {
   "cell_type": "markdown",
   "metadata": {},
   "source": [
    "## Add dummfyied versions of categorical variables as well"
   ]
  },
  {
   "cell_type": "code",
   "execution_count": 38,
   "metadata": {},
   "outputs": [],
   "source": [
    "df_train_dum = pd.get_dummies(df_train[cat_cols], columns=cat_cols)\n",
    "df_test_dum = pd.get_dummies(df_test[cat_cols], columns=cat_cols)\n",
    "\n",
    "df_train = pd.concat([df_train, df_train_dum], axis=1)\n",
    "df_test = pd.concat([df_test, df_test_dum], axis=1)"
   ]
  },
  {
   "cell_type": "code",
   "execution_count": 39,
   "metadata": {},
   "outputs": [],
   "source": [
    "df_train[label_col] = df_train[label_col].astype('int')"
   ]
  },
  {
   "cell_type": "markdown",
   "metadata": {},
   "source": [
    "## Train, Eval Split"
   ]
  },
  {
   "cell_type": "code",
   "execution_count": 40,
   "metadata": {},
   "outputs": [],
   "source": [
    "df_train, df_eval = train_test_split(df_train, test_size=0.25, random_state=42, shuffle=True, stratify=stratify_key)"
   ]
  },
  {
   "cell_type": "code",
   "execution_count": 41,
   "metadata": {},
   "outputs": [
    {
     "name": "stdout",
     "output_type": "stream",
     "text": [
      "(6051, 69) (2017, 69)\n"
     ]
    }
   ],
   "source": [
    "print(df_train.shape, df_eval.shape)"
   ]
  },
  {
   "cell_type": "code",
   "execution_count": 42,
   "metadata": {},
   "outputs": [
    {
     "data": {
      "text/plain": [
       "Index(['ID', 'Gender', 'Ever_Married', 'Age', 'Graduated', 'Profession',\n",
       "       'Work_Experience', 'Spending_Score', 'Family_Size', 'Var_1',\n",
       "       'Segmentation', 'any_missing_flag', 'Gender_Ever_Married_Count',\n",
       "       'Ever_Married_Graduated_Count', 'Gender_Unique_Professions',\n",
       "       'Gender_Unique_Var_1', 'Graduated_Unique_Professions',\n",
       "       'Graduated_Unique_Var_1', 'Ever_Married_Unique_Professions',\n",
       "       'Ever_Married_Unique_Var_1', 'Gender_Mean_Age',\n",
       "       'Gender_Mean_Family_Size', 'Gender_Mean_Work_Experience',\n",
       "       'Profession_Mean_Age', 'Profession_Mean_Family_Size',\n",
       "       'Profession_Mean_Work_Experience', 'Ever_Married_Mean_Age',\n",
       "       'Ever_Married_Mean_Family_Size', 'Ever_Married_Mean_Work_Experience',\n",
       "       'Graduated_Mean_Age', 'Graduated_Mean_Family_Size',\n",
       "       'Graduated_Mean_Work_Experience', 'Gender_Std_Age',\n",
       "       'Gender_Std_Family_Size', 'Gender_Std_Work_Experience',\n",
       "       'Profession_Std_Age', 'Profession_Std_Family_Size',\n",
       "       'Profession_Std_Work_Experience', 'Ever_Married_Std_Age',\n",
       "       'Ever_Married_Std_Family_Size', 'Ever_Married_Std_Work_Experience',\n",
       "       'Graduated_Std_Age', 'Graduated_Std_Family_Size',\n",
       "       'Graduated_Std_Work_Experience', 'Gender_0', 'Gender_1',\n",
       "       'Ever_Married_0', 'Ever_Married_1', 'Graduated_0', 'Graduated_1',\n",
       "       'Profession_0', 'Profession_1', 'Profession_2', 'Profession_3',\n",
       "       'Profession_4', 'Profession_5', 'Profession_6', 'Profession_7',\n",
       "       'Profession_8', 'Spending_Score_0', 'Spending_Score_1',\n",
       "       'Spending_Score_2', 'Var_1_0', 'Var_1_1', 'Var_1_2', 'Var_1_3',\n",
       "       'Var_1_4', 'Var_1_5', 'Var_1_6'],\n",
       "      dtype='object')"
      ]
     },
     "execution_count": 42,
     "metadata": {},
     "output_type": "execute_result"
    }
   ],
   "source": [
    "df_train.columns"
   ]
  },
  {
   "cell_type": "markdown",
   "metadata": {},
   "source": [
    "## Select Feature Columns"
   ]
  },
  {
   "cell_type": "code",
   "execution_count": 43,
   "metadata": {},
   "outputs": [
    {
     "name": "stdout",
     "output_type": "stream",
     "text": [
      "['Gender', 'Ever_Married', 'Age', 'Graduated', 'Profession', 'Work_Experience', 'Spending_Score', 'Family_Size', 'Var_1', 'any_missing_flag', 'Gender_Ever_Married_Count', 'Ever_Married_Graduated_Count', 'Gender_Unique_Professions', 'Gender_Unique_Var_1', 'Graduated_Unique_Professions', 'Graduated_Unique_Var_1', 'Ever_Married_Unique_Professions', 'Ever_Married_Unique_Var_1', 'Gender_Mean_Age', 'Gender_Mean_Family_Size', 'Gender_Mean_Work_Experience', 'Profession_Mean_Age', 'Profession_Mean_Family_Size', 'Profession_Mean_Work_Experience', 'Ever_Married_Mean_Age', 'Ever_Married_Mean_Family_Size', 'Ever_Married_Mean_Work_Experience', 'Graduated_Mean_Age', 'Graduated_Mean_Family_Size', 'Graduated_Mean_Work_Experience', 'Gender_Std_Age', 'Gender_Std_Family_Size', 'Gender_Std_Work_Experience', 'Profession_Std_Age', 'Profession_Std_Family_Size', 'Profession_Std_Work_Experience', 'Ever_Married_Std_Age', 'Ever_Married_Std_Family_Size', 'Ever_Married_Std_Work_Experience', 'Graduated_Std_Age', 'Graduated_Std_Family_Size', 'Graduated_Std_Work_Experience', 'Gender_0', 'Gender_1', 'Ever_Married_0', 'Ever_Married_1', 'Graduated_0', 'Graduated_1', 'Profession_0', 'Profession_1', 'Profession_2', 'Profession_3', 'Profession_4', 'Profession_5', 'Profession_6', 'Profession_7', 'Profession_8', 'Spending_Score_0', 'Spending_Score_1', 'Spending_Score_2', 'Var_1_0', 'Var_1_1', 'Var_1_2', 'Var_1_3', 'Var_1_4', 'Var_1_5', 'Var_1_6']\n"
     ]
    }
   ],
   "source": [
    "feature_cols = df_train.columns.tolist()\n",
    "feature_cols.remove('ID')\n",
    "feature_cols.remove(label_col)\n",
    "print(feature_cols)"
   ]
  },
  {
   "cell_type": "code",
   "execution_count": 44,
   "metadata": {},
   "outputs": [
    {
     "data": {
      "text/plain": [
       "3    1701\n",
       "0    1479\n",
       "2    1478\n",
       "1    1393\n",
       "Name: Segmentation, dtype: int64"
      ]
     },
     "execution_count": 44,
     "metadata": {},
     "output_type": "execute_result"
    }
   ],
   "source": [
    "df_train[label_col].value_counts()"
   ]
  },
  {
   "cell_type": "code",
   "execution_count": 45,
   "metadata": {},
   "outputs": [
    {
     "data": {
      "text/plain": [
       "3    567\n",
       "0    493\n",
       "2    492\n",
       "1    465\n",
       "Name: Segmentation, dtype: int64"
      ]
     },
     "execution_count": 45,
     "metadata": {},
     "output_type": "execute_result"
    }
   ],
   "source": [
    "df_eval[label_col].value_counts()"
   ]
  },
  {
   "cell_type": "markdown",
   "metadata": {},
   "source": [
    "## Hyperparameters"
   ]
  },
  {
   "cell_type": "code",
   "execution_count": 46,
   "metadata": {},
   "outputs": [],
   "source": [
    "params = {\n",
    "    'learning_rate': 0.05, \n",
    "    'max_depth': 3, \n",
    "    'min_data_in_leaf': 19, \n",
    "    'n_estimators': 376, \n",
    "    'reg_alpha': 1.05, \n",
    "    'reg_lambda': 2.53, \n",
    "    'objective': 'multiclass', \n",
    "    'boosting_type': 'gbdt', \n",
    "    'subsample': 0.7, \n",
    "    'random_state': 42, \n",
    "    'colsample_bytree': 0.7, \n",
    "    'class_weight': {0: 0.38, 1: 0.29, 2: 0.27, 3: 0.34}\n",
    "}"
   ]
  },
  {
   "cell_type": "markdown",
   "metadata": {},
   "source": [
    "## Model Training and Evaluation"
   ]
  },
  {
   "cell_type": "code",
   "execution_count": 47,
   "metadata": {},
   "outputs": [
    {
     "name": "stderr",
     "output_type": "stream",
     "text": [
      "/Users/abhay.shukla/anaconda3/lib/python3.7/site-packages/lightgbm/basic.py:1295: UserWarning: categorical_feature in Dataset is overridden.\n",
      "New categorical_feature is []\n",
      "  'New categorical_feature is {}'.format(sorted(list(categorical_feature))))\n"
     ]
    },
    {
     "name": "stdout",
     "output_type": "stream",
     "text": [
      "[1]\tvalid_0's multi_error: 0.649314\tvalid_0's multi_logloss: 1.37647\tvalid_1's multi_error: 0.650471\tvalid_1's multi_logloss: 1.37613\n",
      "Training until validation scores don't improve for 400 rounds\n",
      "[2]\tvalid_0's multi_error: 0.631796\tvalid_0's multi_logloss: 1.36135\tvalid_1's multi_error: 0.630144\tvalid_1's multi_logloss: 1.36052\n",
      "[3]\tvalid_0's multi_error: 0.609817\tvalid_0's multi_logloss: 1.3464\tvalid_1's multi_error: 0.606346\tvalid_1's multi_logloss: 1.34552\n",
      "[4]\tvalid_0's multi_error: 0.60866\tvalid_0's multi_logloss: 1.33309\tvalid_1's multi_error: 0.607833\tvalid_1's multi_logloss: 1.33183\n",
      "[5]\tvalid_0's multi_error: 0.60899\tvalid_0's multi_logloss: 1.32052\tvalid_1's multi_error: 0.608825\tvalid_1's multi_logloss: 1.31906\n",
      "[6]\tvalid_0's multi_error: 0.560899\tvalid_0's multi_logloss: 1.30893\tvalid_1's multi_error: 0.551314\tvalid_1's multi_logloss: 1.30726\n",
      "[7]\tvalid_0's multi_error: 0.533135\tvalid_0's multi_logloss: 1.29867\tvalid_1's multi_error: 0.523054\tvalid_1's multi_logloss: 1.29641\n",
      "[8]\tvalid_0's multi_error: 0.532474\tvalid_0's multi_logloss: 1.28899\tvalid_1's multi_error: 0.517105\tvalid_1's multi_logloss: 1.28652\n",
      "[9]\tvalid_0's multi_error: 0.532309\tvalid_0's multi_logloss: 1.27914\tvalid_1's multi_error: 0.517105\tvalid_1's multi_logloss: 1.27661\n",
      "[10]\tvalid_0's multi_error: 0.531152\tvalid_0's multi_logloss: 1.26971\tvalid_1's multi_error: 0.518096\tvalid_1's multi_logloss: 1.26722\n",
      "[11]\tvalid_0's multi_error: 0.526855\tvalid_0's multi_logloss: 1.2609\tvalid_1's multi_error: 0.514626\tvalid_1's multi_logloss: 1.25815\n",
      "[12]\tvalid_0's multi_error: 0.528177\tvalid_0's multi_logloss: 1.25292\tvalid_1's multi_error: 0.513634\tvalid_1's multi_logloss: 1.25007\n",
      "[13]\tvalid_0's multi_error: 0.528177\tvalid_0's multi_logloss: 1.24506\tvalid_1's multi_error: 0.513634\tvalid_1's multi_logloss: 1.24201\n",
      "[14]\tvalid_0's multi_error: 0.513634\tvalid_0's multi_logloss: 1.23759\tvalid_1's multi_error: 0.503223\tvalid_1's multi_logloss: 1.23441\n",
      "[15]\tvalid_0's multi_error: 0.511816\tvalid_0's multi_logloss: 1.23019\tvalid_1's multi_error: 0.498761\tvalid_1's multi_logloss: 1.22683\n",
      "[16]\tvalid_0's multi_error: 0.505702\tvalid_0's multi_logloss: 1.22353\tvalid_1's multi_error: 0.493307\tvalid_1's multi_logloss: 1.22006\n",
      "[17]\tvalid_0's multi_error: 0.505371\tvalid_0's multi_logloss: 1.21689\tvalid_1's multi_error: 0.492315\tvalid_1's multi_logloss: 1.21331\n",
      "[18]\tvalid_0's multi_error: 0.505867\tvalid_0's multi_logloss: 1.21078\tvalid_1's multi_error: 0.492315\tvalid_1's multi_logloss: 1.20703\n",
      "[19]\tvalid_0's multi_error: 0.503553\tvalid_0's multi_logloss: 1.2051\tvalid_1's multi_error: 0.491324\tvalid_1's multi_logloss: 1.20119\n",
      "[20]\tvalid_0's multi_error: 0.500744\tvalid_0's multi_logloss: 1.2\tvalid_1's multi_error: 0.49529\tvalid_1's multi_logloss: 1.19608\n",
      "[21]\tvalid_0's multi_error: 0.499422\tvalid_0's multi_logloss: 1.19495\tvalid_1's multi_error: 0.493803\tvalid_1's multi_logloss: 1.19087\n",
      "[22]\tvalid_0's multi_error: 0.498761\tvalid_0's multi_logloss: 1.18997\tvalid_1's multi_error: 0.491324\tvalid_1's multi_logloss: 1.18583\n",
      "[23]\tvalid_0's multi_error: 0.498926\tvalid_0's multi_logloss: 1.18521\tvalid_1's multi_error: 0.49182\tvalid_1's multi_logloss: 1.18099\n",
      "[24]\tvalid_0's multi_error: 0.498099\tvalid_0's multi_logloss: 1.18082\tvalid_1's multi_error: 0.491324\tvalid_1's multi_logloss: 1.17643\n",
      "[25]\tvalid_0's multi_error: 0.49843\tvalid_0's multi_logloss: 1.17647\tvalid_1's multi_error: 0.492315\tvalid_1's multi_logloss: 1.17211\n",
      "[26]\tvalid_0's multi_error: 0.498099\tvalid_0's multi_logloss: 1.17238\tvalid_1's multi_error: 0.492315\tvalid_1's multi_logloss: 1.16803\n",
      "[27]\tvalid_0's multi_error: 0.496943\tvalid_0's multi_logloss: 1.16876\tvalid_1's multi_error: 0.492315\tvalid_1's multi_logloss: 1.16443\n",
      "[28]\tvalid_0's multi_error: 0.496116\tvalid_0's multi_logloss: 1.16491\tvalid_1's multi_error: 0.493307\tvalid_1's multi_logloss: 1.16047\n",
      "[29]\tvalid_0's multi_error: 0.495621\tvalid_0's multi_logloss: 1.1614\tvalid_1's multi_error: 0.49182\tvalid_1's multi_logloss: 1.15675\n",
      "[30]\tvalid_0's multi_error: 0.493968\tvalid_0's multi_logloss: 1.15781\tvalid_1's multi_error: 0.490828\tvalid_1's multi_logloss: 1.15323\n",
      "[31]\tvalid_0's multi_error: 0.49182\tvalid_0's multi_logloss: 1.15438\tvalid_1's multi_error: 0.487357\tvalid_1's multi_logloss: 1.1498\n",
      "[32]\tvalid_0's multi_error: 0.490828\tvalid_0's multi_logloss: 1.15108\tvalid_1's multi_error: 0.48587\tvalid_1's multi_logloss: 1.14659\n",
      "[33]\tvalid_0's multi_error: 0.490663\tvalid_0's multi_logloss: 1.14775\tvalid_1's multi_error: 0.483391\tvalid_1's multi_logloss: 1.1432\n",
      "[34]\tvalid_0's multi_error: 0.489175\tvalid_0's multi_logloss: 1.14466\tvalid_1's multi_error: 0.481408\tvalid_1's multi_logloss: 1.1401\n",
      "[35]\tvalid_0's multi_error: 0.487192\tvalid_0's multi_logloss: 1.14186\tvalid_1's multi_error: 0.480912\tvalid_1's multi_logloss: 1.13721\n",
      "[36]\tvalid_0's multi_error: 0.487357\tvalid_0's multi_logloss: 1.1391\tvalid_1's multi_error: 0.481904\tvalid_1's multi_logloss: 1.13456\n",
      "[37]\tvalid_0's multi_error: 0.487357\tvalid_0's multi_logloss: 1.13667\tvalid_1's multi_error: 0.480912\tvalid_1's multi_logloss: 1.13211\n",
      "[38]\tvalid_0's multi_error: 0.486035\tvalid_0's multi_logloss: 1.13422\tvalid_1's multi_error: 0.483391\tvalid_1's multi_logloss: 1.12952\n",
      "[39]\tvalid_0's multi_error: 0.484713\tvalid_0's multi_logloss: 1.13182\tvalid_1's multi_error: 0.480416\tvalid_1's multi_logloss: 1.12738\n",
      "[40]\tvalid_0's multi_error: 0.483887\tvalid_0's multi_logloss: 1.12947\tvalid_1's multi_error: 0.480912\tvalid_1's multi_logloss: 1.12513\n",
      "[41]\tvalid_0's multi_error: 0.483391\tvalid_0's multi_logloss: 1.12732\tvalid_1's multi_error: 0.480912\tvalid_1's multi_logloss: 1.12313\n",
      "[42]\tvalid_0's multi_error: 0.481408\tvalid_0's multi_logloss: 1.12497\tvalid_1's multi_error: 0.476946\tvalid_1's multi_logloss: 1.12068\n",
      "[43]\tvalid_0's multi_error: 0.481243\tvalid_0's multi_logloss: 1.123\tvalid_1's multi_error: 0.475459\tvalid_1's multi_logloss: 1.11856\n",
      "[44]\tvalid_0's multi_error: 0.481243\tvalid_0's multi_logloss: 1.12115\tvalid_1's multi_error: 0.475459\tvalid_1's multi_logloss: 1.11681\n",
      "[45]\tvalid_0's multi_error: 0.480747\tvalid_0's multi_logloss: 1.11911\tvalid_1's multi_error: 0.474467\tvalid_1's multi_logloss: 1.11481\n",
      "[46]\tvalid_0's multi_error: 0.479921\tvalid_0's multi_logloss: 1.11724\tvalid_1's multi_error: 0.473475\tvalid_1's multi_logloss: 1.11299\n",
      "[47]\tvalid_0's multi_error: 0.480747\tvalid_0's multi_logloss: 1.11517\tvalid_1's multi_error: 0.470501\tvalid_1's multi_logloss: 1.11103\n",
      "[48]\tvalid_0's multi_error: 0.480747\tvalid_0's multi_logloss: 1.11332\tvalid_1's multi_error: 0.472484\tvalid_1's multi_logloss: 1.1093\n",
      "[49]\tvalid_0's multi_error: 0.481243\tvalid_0's multi_logloss: 1.11148\tvalid_1's multi_error: 0.471492\tvalid_1's multi_logloss: 1.10764\n",
      "[50]\tvalid_0's multi_error: 0.480582\tvalid_0's multi_logloss: 1.10978\tvalid_1's multi_error: 0.471988\tvalid_1's multi_logloss: 1.10596\n",
      "[51]\tvalid_0's multi_error: 0.479094\tvalid_0's multi_logloss: 1.10821\tvalid_1's multi_error: 0.470005\tvalid_1's multi_logloss: 1.10448\n",
      "[52]\tvalid_0's multi_error: 0.477772\tvalid_0's multi_logloss: 1.1065\tvalid_1's multi_error: 0.470005\tvalid_1's multi_logloss: 1.10293\n",
      "[53]\tvalid_0's multi_error: 0.477111\tvalid_0's multi_logloss: 1.10495\tvalid_1's multi_error: 0.468518\tvalid_1's multi_logloss: 1.10135\n",
      "[54]\tvalid_0's multi_error: 0.477938\tvalid_0's multi_logloss: 1.10336\tvalid_1's multi_error: 0.470997\tvalid_1's multi_logloss: 1.10002\n",
      "[55]\tvalid_0's multi_error: 0.476946\tvalid_0's multi_logloss: 1.10186\tvalid_1's multi_error: 0.469509\tvalid_1's multi_logloss: 1.09862\n",
      "[56]\tvalid_0's multi_error: 0.477111\tvalid_0's multi_logloss: 1.10034\tvalid_1's multi_error: 0.469509\tvalid_1's multi_logloss: 1.09731\n",
      "[57]\tvalid_0's multi_error: 0.474798\tvalid_0's multi_logloss: 1.09902\tvalid_1's multi_error: 0.46703\tvalid_1's multi_logloss: 1.09612\n",
      "[58]\tvalid_0's multi_error: 0.474302\tvalid_0's multi_logloss: 1.09773\tvalid_1's multi_error: 0.466534\tvalid_1's multi_logloss: 1.09497\n",
      "[59]\tvalid_0's multi_error: 0.473971\tvalid_0's multi_logloss: 1.09649\tvalid_1's multi_error: 0.467526\tvalid_1's multi_logloss: 1.0937\n",
      "[60]\tvalid_0's multi_error: 0.473971\tvalid_0's multi_logloss: 1.09522\tvalid_1's multi_error: 0.466039\tvalid_1's multi_logloss: 1.09257\n",
      "[61]\tvalid_0's multi_error: 0.473475\tvalid_0's multi_logloss: 1.09394\tvalid_1's multi_error: 0.46703\tvalid_1's multi_logloss: 1.09124\n",
      "[62]\tvalid_0's multi_error: 0.474467\tvalid_0's multi_logloss: 1.09267\tvalid_1's multi_error: 0.466534\tvalid_1's multi_logloss: 1.09022\n",
      "[63]\tvalid_0's multi_error: 0.473641\tvalid_0's multi_logloss: 1.09143\tvalid_1's multi_error: 0.466039\tvalid_1's multi_logloss: 1.08893\n",
      "[64]\tvalid_0's multi_error: 0.474137\tvalid_0's multi_logloss: 1.09025\tvalid_1's multi_error: 0.464551\tvalid_1's multi_logloss: 1.08787\n",
      "[65]\tvalid_0's multi_error: 0.473145\tvalid_0's multi_logloss: 1.08904\tvalid_1's multi_error: 0.460585\tvalid_1's multi_logloss: 1.08689\n",
      "[66]\tvalid_0's multi_error: 0.471988\tvalid_0's multi_logloss: 1.08793\tvalid_1's multi_error: 0.460089\tvalid_1's multi_logloss: 1.08586\n",
      "[67]\tvalid_0's multi_error: 0.471988\tvalid_0's multi_logloss: 1.08697\tvalid_1's multi_error: 0.459593\tvalid_1's multi_logloss: 1.08486\n",
      "[68]\tvalid_0's multi_error: 0.471988\tvalid_0's multi_logloss: 1.0859\tvalid_1's multi_error: 0.460089\tvalid_1's multi_logloss: 1.08408\n",
      "[69]\tvalid_0's multi_error: 0.471162\tvalid_0's multi_logloss: 1.08489\tvalid_1's multi_error: 0.460585\tvalid_1's multi_logloss: 1.08322\n"
     ]
    },
    {
     "name": "stdout",
     "output_type": "stream",
     "text": [
      "[70]\tvalid_0's multi_error: 0.471492\tvalid_0's multi_logloss: 1.08386\tvalid_1's multi_error: 0.460585\tvalid_1's multi_logloss: 1.08233\n",
      "[71]\tvalid_0's multi_error: 0.471162\tvalid_0's multi_logloss: 1.08289\tvalid_1's multi_error: 0.459593\tvalid_1's multi_logloss: 1.08147\n",
      "[72]\tvalid_0's multi_error: 0.470831\tvalid_0's multi_logloss: 1.08182\tvalid_1's multi_error: 0.459098\tvalid_1's multi_logloss: 1.08057\n",
      "[73]\tvalid_0's multi_error: 0.470005\tvalid_0's multi_logloss: 1.08078\tvalid_1's multi_error: 0.459593\tvalid_1's multi_logloss: 1.07963\n",
      "[74]\tvalid_0's multi_error: 0.470005\tvalid_0's multi_logloss: 1.07974\tvalid_1's multi_error: 0.459593\tvalid_1's multi_logloss: 1.07865\n",
      "[75]\tvalid_0's multi_error: 0.468683\tvalid_0's multi_logloss: 1.0788\tvalid_1's multi_error: 0.457115\tvalid_1's multi_logloss: 1.07782\n",
      "[76]\tvalid_0's multi_error: 0.469013\tvalid_0's multi_logloss: 1.07798\tvalid_1's multi_error: 0.456619\tvalid_1's multi_logloss: 1.07715\n",
      "[77]\tvalid_0's multi_error: 0.467857\tvalid_0's multi_logloss: 1.07714\tvalid_1's multi_error: 0.455627\tvalid_1's multi_logloss: 1.07648\n",
      "[78]\tvalid_0's multi_error: 0.46703\tvalid_0's multi_logloss: 1.0763\tvalid_1's multi_error: 0.455627\tvalid_1's multi_logloss: 1.07585\n",
      "[79]\tvalid_0's multi_error: 0.467691\tvalid_0's multi_logloss: 1.07538\tvalid_1's multi_error: 0.455627\tvalid_1's multi_logloss: 1.07503\n",
      "[80]\tvalid_0's multi_error: 0.46703\tvalid_0's multi_logloss: 1.0744\tvalid_1's multi_error: 0.45414\tvalid_1's multi_logloss: 1.0742\n",
      "[81]\tvalid_0's multi_error: 0.4667\tvalid_0's multi_logloss: 1.07355\tvalid_1's multi_error: 0.455131\tvalid_1's multi_logloss: 1.07353\n",
      "[82]\tvalid_0's multi_error: 0.466369\tvalid_0's multi_logloss: 1.07272\tvalid_1's multi_error: 0.45414\tvalid_1's multi_logloss: 1.07278\n",
      "[83]\tvalid_0's multi_error: 0.465543\tvalid_0's multi_logloss: 1.07187\tvalid_1's multi_error: 0.45414\tvalid_1's multi_logloss: 1.07216\n",
      "[84]\tvalid_0's multi_error: 0.466534\tvalid_0's multi_logloss: 1.07094\tvalid_1's multi_error: 0.45414\tvalid_1's multi_logloss: 1.0713\n",
      "[85]\tvalid_0's multi_error: 0.465873\tvalid_0's multi_logloss: 1.07014\tvalid_1's multi_error: 0.454636\tvalid_1's multi_logloss: 1.07068\n",
      "[86]\tvalid_0's multi_error: 0.465708\tvalid_0's multi_logloss: 1.06931\tvalid_1's multi_error: 0.453644\tvalid_1's multi_logloss: 1.06989\n",
      "[87]\tvalid_0's multi_error: 0.464717\tvalid_0's multi_logloss: 1.06867\tvalid_1's multi_error: 0.453644\tvalid_1's multi_logloss: 1.06936\n",
      "[88]\tvalid_0's multi_error: 0.464717\tvalid_0's multi_logloss: 1.06802\tvalid_1's multi_error: 0.453644\tvalid_1's multi_logloss: 1.06891\n",
      "[89]\tvalid_0's multi_error: 0.463725\tvalid_0's multi_logloss: 1.0673\tvalid_1's multi_error: 0.454636\tvalid_1's multi_logloss: 1.06829\n",
      "[90]\tvalid_0's multi_error: 0.463229\tvalid_0's multi_logloss: 1.06643\tvalid_1's multi_error: 0.453148\tvalid_1's multi_logloss: 1.06773\n",
      "[91]\tvalid_0's multi_error: 0.462072\tvalid_0's multi_logloss: 1.06574\tvalid_1's multi_error: 0.455627\tvalid_1's multi_logloss: 1.06715\n",
      "[92]\tvalid_0's multi_error: 0.462568\tvalid_0's multi_logloss: 1.06507\tvalid_1's multi_error: 0.45414\tvalid_1's multi_logloss: 1.06665\n",
      "[93]\tvalid_0's multi_error: 0.460916\tvalid_0's multi_logloss: 1.06437\tvalid_1's multi_error: 0.453148\tvalid_1's multi_logloss: 1.06605\n",
      "[94]\tvalid_0's multi_error: 0.460585\tvalid_0's multi_logloss: 1.06374\tvalid_1's multi_error: 0.454636\tvalid_1's multi_logloss: 1.0656\n",
      "[95]\tvalid_0's multi_error: 0.461577\tvalid_0's multi_logloss: 1.06312\tvalid_1's multi_error: 0.452652\tvalid_1's multi_logloss: 1.06515\n",
      "[96]\tvalid_0's multi_error: 0.46075\tvalid_0's multi_logloss: 1.06243\tvalid_1's multi_error: 0.452652\tvalid_1's multi_logloss: 1.06457\n",
      "[97]\tvalid_0's multi_error: 0.46042\tvalid_0's multi_logloss: 1.06178\tvalid_1's multi_error: 0.453148\tvalid_1's multi_logloss: 1.06407\n",
      "[98]\tvalid_0's multi_error: 0.460089\tvalid_0's multi_logloss: 1.06118\tvalid_1's multi_error: 0.451661\tvalid_1's multi_logloss: 1.06368\n",
      "[99]\tvalid_0's multi_error: 0.459924\tvalid_0's multi_logloss: 1.06049\tvalid_1's multi_error: 0.453148\tvalid_1's multi_logloss: 1.06308\n",
      "[100]\tvalid_0's multi_error: 0.459759\tvalid_0's multi_logloss: 1.05993\tvalid_1's multi_error: 0.452157\tvalid_1's multi_logloss: 1.06263\n",
      "[101]\tvalid_0's multi_error: 0.459593\tvalid_0's multi_logloss: 1.05935\tvalid_1's multi_error: 0.451165\tvalid_1's multi_logloss: 1.06209\n",
      "[102]\tvalid_0's multi_error: 0.459759\tvalid_0's multi_logloss: 1.05877\tvalid_1's multi_error: 0.451165\tvalid_1's multi_logloss: 1.06172\n",
      "[103]\tvalid_0's multi_error: 0.459263\tvalid_0's multi_logloss: 1.05822\tvalid_1's multi_error: 0.451661\tvalid_1's multi_logloss: 1.06136\n",
      "[104]\tvalid_0's multi_error: 0.459098\tvalid_0's multi_logloss: 1.05771\tvalid_1's multi_error: 0.452157\tvalid_1's multi_logloss: 1.06095\n",
      "[105]\tvalid_0's multi_error: 0.458932\tvalid_0's multi_logloss: 1.05713\tvalid_1's multi_error: 0.452157\tvalid_1's multi_logloss: 1.06052\n",
      "[106]\tvalid_0's multi_error: 0.458767\tvalid_0's multi_logloss: 1.05661\tvalid_1's multi_error: 0.452157\tvalid_1's multi_logloss: 1.06022\n",
      "[107]\tvalid_0's multi_error: 0.458767\tvalid_0's multi_logloss: 1.0561\tvalid_1's multi_error: 0.453148\tvalid_1's multi_logloss: 1.05981\n",
      "[108]\tvalid_0's multi_error: 0.458106\tvalid_0's multi_logloss: 1.05558\tvalid_1's multi_error: 0.452652\tvalid_1's multi_logloss: 1.05936\n",
      "[109]\tvalid_0's multi_error: 0.457445\tvalid_0's multi_logloss: 1.0551\tvalid_1's multi_error: 0.452652\tvalid_1's multi_logloss: 1.059\n",
      "[110]\tvalid_0's multi_error: 0.456949\tvalid_0's multi_logloss: 1.0545\tvalid_1's multi_error: 0.453644\tvalid_1's multi_logloss: 1.05847\n",
      "[111]\tvalid_0's multi_error: 0.45728\tvalid_0's multi_logloss: 1.05397\tvalid_1's multi_error: 0.454636\tvalid_1's multi_logloss: 1.05801\n",
      "[112]\tvalid_0's multi_error: 0.457115\tvalid_0's multi_logloss: 1.05351\tvalid_1's multi_error: 0.455131\tvalid_1's multi_logloss: 1.05764\n",
      "[113]\tvalid_0's multi_error: 0.456949\tvalid_0's multi_logloss: 1.05289\tvalid_1's multi_error: 0.455627\tvalid_1's multi_logloss: 1.05722\n",
      "[114]\tvalid_0's multi_error: 0.456453\tvalid_0's multi_logloss: 1.05241\tvalid_1's multi_error: 0.456619\tvalid_1's multi_logloss: 1.05689\n",
      "[115]\tvalid_0's multi_error: 0.456784\tvalid_0's multi_logloss: 1.05193\tvalid_1's multi_error: 0.45761\tvalid_1's multi_logloss: 1.05653\n",
      "[116]\tvalid_0's multi_error: 0.456288\tvalid_0's multi_logloss: 1.0514\tvalid_1's multi_error: 0.45761\tvalid_1's multi_logloss: 1.0562\n",
      "[117]\tvalid_0's multi_error: 0.455958\tvalid_0's multi_logloss: 1.05097\tvalid_1's multi_error: 0.45761\tvalid_1's multi_logloss: 1.05592\n",
      "[118]\tvalid_0's multi_error: 0.456123\tvalid_0's multi_logloss: 1.05054\tvalid_1's multi_error: 0.456123\tvalid_1's multi_logloss: 1.05566\n",
      "[119]\tvalid_0's multi_error: 0.456784\tvalid_0's multi_logloss: 1.05003\tvalid_1's multi_error: 0.455627\tvalid_1's multi_logloss: 1.0553\n",
      "[120]\tvalid_0's multi_error: 0.456949\tvalid_0's multi_logloss: 1.04963\tvalid_1's multi_error: 0.457115\tvalid_1's multi_logloss: 1.05513\n",
      "[121]\tvalid_0's multi_error: 0.456288\tvalid_0's multi_logloss: 1.04918\tvalid_1's multi_error: 0.456123\tvalid_1's multi_logloss: 1.05481\n",
      "[122]\tvalid_0's multi_error: 0.456123\tvalid_0's multi_logloss: 1.04862\tvalid_1's multi_error: 0.455627\tvalid_1's multi_logloss: 1.05426\n",
      "[123]\tvalid_0's multi_error: 0.455792\tvalid_0's multi_logloss: 1.04818\tvalid_1's multi_error: 0.456619\tvalid_1's multi_logloss: 1.0539\n",
      "[124]\tvalid_0's multi_error: 0.455131\tvalid_0's multi_logloss: 1.04773\tvalid_1's multi_error: 0.455131\tvalid_1's multi_logloss: 1.05359\n",
      "[125]\tvalid_0's multi_error: 0.454636\tvalid_0's multi_logloss: 1.04734\tvalid_1's multi_error: 0.45761\tvalid_1's multi_logloss: 1.05337\n",
      "[126]\tvalid_0's multi_error: 0.454636\tvalid_0's multi_logloss: 1.04696\tvalid_1's multi_error: 0.457115\tvalid_1's multi_logloss: 1.05316\n",
      "[127]\tvalid_0's multi_error: 0.45414\tvalid_0's multi_logloss: 1.04654\tvalid_1's multi_error: 0.458106\tvalid_1's multi_logloss: 1.05281\n",
      "[128]\tvalid_0's multi_error: 0.454305\tvalid_0's multi_logloss: 1.04613\tvalid_1's multi_error: 0.458106\tvalid_1's multi_logloss: 1.05256\n",
      "[129]\tvalid_0's multi_error: 0.454966\tvalid_0's multi_logloss: 1.04578\tvalid_1's multi_error: 0.457115\tvalid_1's multi_logloss: 1.05235\n",
      "[130]\tvalid_0's multi_error: 0.453809\tvalid_0's multi_logloss: 1.04538\tvalid_1's multi_error: 0.458106\tvalid_1's multi_logloss: 1.05213\n",
      "[131]\tvalid_0's multi_error: 0.453975\tvalid_0's multi_logloss: 1.04504\tvalid_1's multi_error: 0.45761\tvalid_1's multi_logloss: 1.0519\n",
      "[132]\tvalid_0's multi_error: 0.453314\tvalid_0's multi_logloss: 1.04469\tvalid_1's multi_error: 0.458602\tvalid_1's multi_logloss: 1.05169\n",
      "[133]\tvalid_0's multi_error: 0.453148\tvalid_0's multi_logloss: 1.04435\tvalid_1's multi_error: 0.457115\tvalid_1's multi_logloss: 1.05151\n",
      "[134]\tvalid_0's multi_error: 0.452818\tvalid_0's multi_logloss: 1.044\tvalid_1's multi_error: 0.45761\tvalid_1's multi_logloss: 1.05124\n",
      "[135]\tvalid_0's multi_error: 0.452157\tvalid_0's multi_logloss: 1.04369\tvalid_1's multi_error: 0.45761\tvalid_1's multi_logloss: 1.05109\n",
      "[136]\tvalid_0's multi_error: 0.45133\tvalid_0's multi_logloss: 1.04334\tvalid_1's multi_error: 0.45761\tvalid_1's multi_logloss: 1.05095\n",
      "[137]\tvalid_0's multi_error: 0.450504\tvalid_0's multi_logloss: 1.04295\tvalid_1's multi_error: 0.458106\tvalid_1's multi_logloss: 1.05071\n",
      "[138]\tvalid_0's multi_error: 0.451165\tvalid_0's multi_logloss: 1.04256\tvalid_1's multi_error: 0.458106\tvalid_1's multi_logloss: 1.05045\n",
      "[139]\tvalid_0's multi_error: 0.451165\tvalid_0's multi_logloss: 1.04217\tvalid_1's multi_error: 0.458106\tvalid_1's multi_logloss: 1.05019\n",
      "[140]\tvalid_0's multi_error: 0.451165\tvalid_0's multi_logloss: 1.04178\tvalid_1's multi_error: 0.458106\tvalid_1's multi_logloss: 1.05001\n",
      "[141]\tvalid_0's multi_error: 0.45133\tvalid_0's multi_logloss: 1.04143\tvalid_1's multi_error: 0.458602\tvalid_1's multi_logloss: 1.04977\n",
      "[142]\tvalid_0's multi_error: 0.451\tvalid_0's multi_logloss: 1.04102\tvalid_1's multi_error: 0.458106\tvalid_1's multi_logloss: 1.04951\n",
      "[143]\tvalid_0's multi_error: 0.450174\tvalid_0's multi_logloss: 1.04069\tvalid_1's multi_error: 0.458106\tvalid_1's multi_logloss: 1.04936\n",
      "[144]\tvalid_0's multi_error: 0.449843\tvalid_0's multi_logloss: 1.04034\tvalid_1's multi_error: 0.45761\tvalid_1's multi_logloss: 1.04914\n",
      "[145]\tvalid_0's multi_error: 0.450339\tvalid_0's multi_logloss: 1.04\tvalid_1's multi_error: 0.456619\tvalid_1's multi_logloss: 1.04893\n",
      "[146]\tvalid_0's multi_error: 0.448356\tvalid_0's multi_logloss: 1.03961\tvalid_1's multi_error: 0.45761\tvalid_1's multi_logloss: 1.04867\n",
      "[147]\tvalid_0's multi_error: 0.448521\tvalid_0's multi_logloss: 1.0393\tvalid_1's multi_error: 0.45761\tvalid_1's multi_logloss: 1.04849\n",
      "[148]\tvalid_0's multi_error: 0.448025\tvalid_0's multi_logloss: 1.03894\tvalid_1's multi_error: 0.458602\tvalid_1's multi_logloss: 1.04835\n",
      "[149]\tvalid_0's multi_error: 0.447695\tvalid_0's multi_logloss: 1.03849\tvalid_1's multi_error: 0.45761\tvalid_1's multi_logloss: 1.04806\n",
      "[150]\tvalid_0's multi_error: 0.44819\tvalid_0's multi_logloss: 1.03821\tvalid_1's multi_error: 0.45761\tvalid_1's multi_logloss: 1.04796\n",
      "[151]\tvalid_0's multi_error: 0.448025\tvalid_0's multi_logloss: 1.03793\tvalid_1's multi_error: 0.458106\tvalid_1's multi_logloss: 1.04777\n",
      "[152]\tvalid_0's multi_error: 0.44819\tvalid_0's multi_logloss: 1.03762\tvalid_1's multi_error: 0.458602\tvalid_1's multi_logloss: 1.04761\n",
      "[153]\tvalid_0's multi_error: 0.447364\tvalid_0's multi_logloss: 1.03729\tvalid_1's multi_error: 0.458602\tvalid_1's multi_logloss: 1.04752\n",
      "[154]\tvalid_0's multi_error: 0.446868\tvalid_0's multi_logloss: 1.03702\tvalid_1's multi_error: 0.458106\tvalid_1's multi_logloss: 1.04738\n",
      "[155]\tvalid_0's multi_error: 0.446868\tvalid_0's multi_logloss: 1.03669\tvalid_1's multi_error: 0.458602\tvalid_1's multi_logloss: 1.04714\n"
     ]
    },
    {
     "name": "stdout",
     "output_type": "stream",
     "text": [
      "[156]\tvalid_0's multi_error: 0.447199\tvalid_0's multi_logloss: 1.03626\tvalid_1's multi_error: 0.458602\tvalid_1's multi_logloss: 1.04695\n",
      "[157]\tvalid_0's multi_error: 0.447695\tvalid_0's multi_logloss: 1.03598\tvalid_1's multi_error: 0.459593\tvalid_1's multi_logloss: 1.04674\n",
      "[158]\tvalid_0's multi_error: 0.446703\tvalid_0's multi_logloss: 1.03566\tvalid_1's multi_error: 0.460089\tvalid_1's multi_logloss: 1.0466\n",
      "[159]\tvalid_0's multi_error: 0.446703\tvalid_0's multi_logloss: 1.03538\tvalid_1's multi_error: 0.460585\tvalid_1's multi_logloss: 1.04633\n",
      "[160]\tvalid_0's multi_error: 0.446538\tvalid_0's multi_logloss: 1.03504\tvalid_1's multi_error: 0.460585\tvalid_1's multi_logloss: 1.04618\n",
      "[161]\tvalid_0's multi_error: 0.446207\tvalid_0's multi_logloss: 1.03477\tvalid_1's multi_error: 0.460585\tvalid_1's multi_logloss: 1.04613\n",
      "[162]\tvalid_0's multi_error: 0.446207\tvalid_0's multi_logloss: 1.03449\tvalid_1's multi_error: 0.460585\tvalid_1's multi_logloss: 1.04608\n",
      "[163]\tvalid_0's multi_error: 0.445877\tvalid_0's multi_logloss: 1.03421\tvalid_1's multi_error: 0.460089\tvalid_1's multi_logloss: 1.04586\n",
      "[164]\tvalid_0's multi_error: 0.445546\tvalid_0's multi_logloss: 1.03384\tvalid_1's multi_error: 0.461081\tvalid_1's multi_logloss: 1.04551\n",
      "[165]\tvalid_0's multi_error: 0.445546\tvalid_0's multi_logloss: 1.0336\tvalid_1's multi_error: 0.461081\tvalid_1's multi_logloss: 1.04541\n",
      "[166]\tvalid_0's multi_error: 0.445877\tvalid_0's multi_logloss: 1.03324\tvalid_1's multi_error: 0.461081\tvalid_1's multi_logloss: 1.04505\n",
      "[167]\tvalid_0's multi_error: 0.445381\tvalid_0's multi_logloss: 1.03295\tvalid_1's multi_error: 0.461081\tvalid_1's multi_logloss: 1.04496\n",
      "[168]\tvalid_0's multi_error: 0.445381\tvalid_0's multi_logloss: 1.03268\tvalid_1's multi_error: 0.461577\tvalid_1's multi_logloss: 1.04473\n",
      "[169]\tvalid_0's multi_error: 0.445546\tvalid_0's multi_logloss: 1.03239\tvalid_1's multi_error: 0.462072\tvalid_1's multi_logloss: 1.04459\n",
      "[170]\tvalid_0's multi_error: 0.44505\tvalid_0's multi_logloss: 1.03208\tvalid_1's multi_error: 0.463064\tvalid_1's multi_logloss: 1.04435\n",
      "[171]\tvalid_0's multi_error: 0.44472\tvalid_0's multi_logloss: 1.03179\tvalid_1's multi_error: 0.462072\tvalid_1's multi_logloss: 1.04421\n",
      "[172]\tvalid_0's multi_error: 0.443563\tvalid_0's multi_logloss: 1.0314\tvalid_1's multi_error: 0.461081\tvalid_1's multi_logloss: 1.04401\n",
      "[173]\tvalid_0's multi_error: 0.443563\tvalid_0's multi_logloss: 1.03108\tvalid_1's multi_error: 0.459593\tvalid_1's multi_logloss: 1.04389\n",
      "[174]\tvalid_0's multi_error: 0.443894\tvalid_0's multi_logloss: 1.03085\tvalid_1's multi_error: 0.458602\tvalid_1's multi_logloss: 1.0438\n",
      "[175]\tvalid_0's multi_error: 0.443728\tvalid_0's multi_logloss: 1.03056\tvalid_1's multi_error: 0.45761\tvalid_1's multi_logloss: 1.04363\n",
      "[176]\tvalid_0's multi_error: 0.443563\tvalid_0's multi_logloss: 1.03029\tvalid_1's multi_error: 0.458106\tvalid_1's multi_logloss: 1.04344\n",
      "[177]\tvalid_0's multi_error: 0.443728\tvalid_0's multi_logloss: 1.02995\tvalid_1's multi_error: 0.456619\tvalid_1's multi_logloss: 1.04327\n",
      "[178]\tvalid_0's multi_error: 0.444059\tvalid_0's multi_logloss: 1.02965\tvalid_1's multi_error: 0.457115\tvalid_1's multi_logloss: 1.04316\n",
      "[179]\tvalid_0's multi_error: 0.443563\tvalid_0's multi_logloss: 1.02936\tvalid_1's multi_error: 0.459593\tvalid_1's multi_logloss: 1.04307\n",
      "[180]\tvalid_0's multi_error: 0.443233\tvalid_0's multi_logloss: 1.02911\tvalid_1's multi_error: 0.458602\tvalid_1's multi_logloss: 1.04299\n",
      "[181]\tvalid_0's multi_error: 0.442902\tvalid_0's multi_logloss: 1.02886\tvalid_1's multi_error: 0.458602\tvalid_1's multi_logloss: 1.04292\n",
      "[182]\tvalid_0's multi_error: 0.442902\tvalid_0's multi_logloss: 1.02861\tvalid_1's multi_error: 0.459098\tvalid_1's multi_logloss: 1.04278\n",
      "[183]\tvalid_0's multi_error: 0.442406\tvalid_0's multi_logloss: 1.02835\tvalid_1's multi_error: 0.458602\tvalid_1's multi_logloss: 1.04257\n",
      "[184]\tvalid_0's multi_error: 0.443067\tvalid_0's multi_logloss: 1.02803\tvalid_1's multi_error: 0.458106\tvalid_1's multi_logloss: 1.04233\n",
      "[185]\tvalid_0's multi_error: 0.443067\tvalid_0's multi_logloss: 1.02781\tvalid_1's multi_error: 0.458106\tvalid_1's multi_logloss: 1.04224\n",
      "[186]\tvalid_0's multi_error: 0.443233\tvalid_0's multi_logloss: 1.02745\tvalid_1's multi_error: 0.458106\tvalid_1's multi_logloss: 1.0421\n",
      "[187]\tvalid_0's multi_error: 0.442902\tvalid_0's multi_logloss: 1.02724\tvalid_1's multi_error: 0.45761\tvalid_1's multi_logloss: 1.04195\n",
      "[188]\tvalid_0's multi_error: 0.443398\tvalid_0's multi_logloss: 1.02695\tvalid_1's multi_error: 0.459593\tvalid_1's multi_logloss: 1.04195\n",
      "[189]\tvalid_0's multi_error: 0.443067\tvalid_0's multi_logloss: 1.02663\tvalid_1's multi_error: 0.458602\tvalid_1's multi_logloss: 1.04169\n",
      "[190]\tvalid_0's multi_error: 0.442571\tvalid_0's multi_logloss: 1.02632\tvalid_1's multi_error: 0.460089\tvalid_1's multi_logloss: 1.04153\n",
      "[191]\tvalid_0's multi_error: 0.442076\tvalid_0's multi_logloss: 1.02604\tvalid_1's multi_error: 0.459098\tvalid_1's multi_logloss: 1.04139\n",
      "[192]\tvalid_0's multi_error: 0.44191\tvalid_0's multi_logloss: 1.02581\tvalid_1's multi_error: 0.460089\tvalid_1's multi_logloss: 1.04135\n",
      "[193]\tvalid_0's multi_error: 0.442406\tvalid_0's multi_logloss: 1.02557\tvalid_1's multi_error: 0.460089\tvalid_1's multi_logloss: 1.04129\n",
      "[194]\tvalid_0's multi_error: 0.442241\tvalid_0's multi_logloss: 1.02541\tvalid_1's multi_error: 0.460089\tvalid_1's multi_logloss: 1.04127\n",
      "[195]\tvalid_0's multi_error: 0.442076\tvalid_0's multi_logloss: 1.02508\tvalid_1's multi_error: 0.460089\tvalid_1's multi_logloss: 1.04108\n",
      "[196]\tvalid_0's multi_error: 0.441415\tvalid_0's multi_logloss: 1.02486\tvalid_1's multi_error: 0.460089\tvalid_1's multi_logloss: 1.04098\n",
      "[197]\tvalid_0's multi_error: 0.441249\tvalid_0's multi_logloss: 1.02465\tvalid_1's multi_error: 0.459593\tvalid_1's multi_logloss: 1.04085\n",
      "[198]\tvalid_0's multi_error: 0.441249\tvalid_0's multi_logloss: 1.02444\tvalid_1's multi_error: 0.458106\tvalid_1's multi_logloss: 1.0408\n",
      "[199]\tvalid_0's multi_error: 0.440919\tvalid_0's multi_logloss: 1.0242\tvalid_1's multi_error: 0.459098\tvalid_1's multi_logloss: 1.04069\n",
      "[200]\tvalid_0's multi_error: 0.440423\tvalid_0's multi_logloss: 1.02401\tvalid_1's multi_error: 0.458602\tvalid_1's multi_logloss: 1.04067\n",
      "[201]\tvalid_0's multi_error: 0.441415\tvalid_0's multi_logloss: 1.02373\tvalid_1's multi_error: 0.459593\tvalid_1's multi_logloss: 1.04054\n",
      "[202]\tvalid_0's multi_error: 0.441415\tvalid_0's multi_logloss: 1.02351\tvalid_1's multi_error: 0.458602\tvalid_1's multi_logloss: 1.04048\n",
      "[203]\tvalid_0's multi_error: 0.440919\tvalid_0's multi_logloss: 1.02327\tvalid_1's multi_error: 0.460089\tvalid_1's multi_logloss: 1.04046\n",
      "[204]\tvalid_0's multi_error: 0.440423\tvalid_0's multi_logloss: 1.023\tvalid_1's multi_error: 0.460089\tvalid_1's multi_logloss: 1.04033\n",
      "[205]\tvalid_0's multi_error: 0.440258\tvalid_0's multi_logloss: 1.02278\tvalid_1's multi_error: 0.460089\tvalid_1's multi_logloss: 1.04022\n",
      "[206]\tvalid_0's multi_error: 0.440423\tvalid_0's multi_logloss: 1.02256\tvalid_1's multi_error: 0.458602\tvalid_1's multi_logloss: 1.04014\n",
      "[207]\tvalid_0's multi_error: 0.440423\tvalid_0's multi_logloss: 1.02233\tvalid_1's multi_error: 0.459098\tvalid_1's multi_logloss: 1.04008\n",
      "[208]\tvalid_0's multi_error: 0.440919\tvalid_0's multi_logloss: 1.02201\tvalid_1's multi_error: 0.459098\tvalid_1's multi_logloss: 1.04002\n",
      "[209]\tvalid_0's multi_error: 0.440423\tvalid_0's multi_logloss: 1.02177\tvalid_1's multi_error: 0.459098\tvalid_1's multi_logloss: 1.03993\n",
      "[210]\tvalid_0's multi_error: 0.440258\tvalid_0's multi_logloss: 1.02155\tvalid_1's multi_error: 0.45761\tvalid_1's multi_logloss: 1.03984\n",
      "[211]\tvalid_0's multi_error: 0.440093\tvalid_0's multi_logloss: 1.02136\tvalid_1's multi_error: 0.458106\tvalid_1's multi_logloss: 1.03978\n",
      "[212]\tvalid_0's multi_error: 0.440258\tvalid_0's multi_logloss: 1.02106\tvalid_1's multi_error: 0.45761\tvalid_1's multi_logloss: 1.03968\n",
      "[213]\tvalid_0's multi_error: 0.440093\tvalid_0's multi_logloss: 1.02081\tvalid_1's multi_error: 0.458106\tvalid_1's multi_logloss: 1.03952\n",
      "[214]\tvalid_0's multi_error: 0.439927\tvalid_0's multi_logloss: 1.02054\tvalid_1's multi_error: 0.459593\tvalid_1's multi_logloss: 1.03941\n",
      "[215]\tvalid_0's multi_error: 0.439762\tvalid_0's multi_logloss: 1.02024\tvalid_1's multi_error: 0.458602\tvalid_1's multi_logloss: 1.03929\n",
      "[216]\tvalid_0's multi_error: 0.439597\tvalid_0's multi_logloss: 1.01996\tvalid_1's multi_error: 0.459098\tvalid_1's multi_logloss: 1.03922\n",
      "[217]\tvalid_0's multi_error: 0.439597\tvalid_0's multi_logloss: 1.01974\tvalid_1's multi_error: 0.458602\tvalid_1's multi_logloss: 1.03916\n",
      "[218]\tvalid_0's multi_error: 0.438936\tvalid_0's multi_logloss: 1.01954\tvalid_1's multi_error: 0.458602\tvalid_1's multi_logloss: 1.0391\n",
      "[219]\tvalid_0's multi_error: 0.438605\tvalid_0's multi_logloss: 1.01936\tvalid_1's multi_error: 0.458602\tvalid_1's multi_logloss: 1.03902\n",
      "[220]\tvalid_0's multi_error: 0.438605\tvalid_0's multi_logloss: 1.01918\tvalid_1's multi_error: 0.458602\tvalid_1's multi_logloss: 1.03895\n",
      "[221]\tvalid_0's multi_error: 0.43877\tvalid_0's multi_logloss: 1.01888\tvalid_1's multi_error: 0.458106\tvalid_1's multi_logloss: 1.03881\n",
      "[222]\tvalid_0's multi_error: 0.43877\tvalid_0's multi_logloss: 1.01869\tvalid_1's multi_error: 0.45761\tvalid_1's multi_logloss: 1.03873\n",
      "[223]\tvalid_0's multi_error: 0.438275\tvalid_0's multi_logloss: 1.0185\tvalid_1's multi_error: 0.45761\tvalid_1's multi_logloss: 1.03876\n",
      "[224]\tvalid_0's multi_error: 0.43877\tvalid_0's multi_logloss: 1.01825\tvalid_1's multi_error: 0.458602\tvalid_1's multi_logloss: 1.03858\n",
      "[225]\tvalid_0's multi_error: 0.439101\tvalid_0's multi_logloss: 1.01804\tvalid_1's multi_error: 0.458106\tvalid_1's multi_logloss: 1.03843\n",
      "[226]\tvalid_0's multi_error: 0.43877\tvalid_0's multi_logloss: 1.01789\tvalid_1's multi_error: 0.45761\tvalid_1's multi_logloss: 1.03838\n",
      "[227]\tvalid_0's multi_error: 0.43877\tvalid_0's multi_logloss: 1.0177\tvalid_1's multi_error: 0.458602\tvalid_1's multi_logloss: 1.03835\n",
      "[228]\tvalid_0's multi_error: 0.438936\tvalid_0's multi_logloss: 1.01756\tvalid_1's multi_error: 0.458106\tvalid_1's multi_logloss: 1.03829\n",
      "[229]\tvalid_0's multi_error: 0.438936\tvalid_0's multi_logloss: 1.01729\tvalid_1's multi_error: 0.459098\tvalid_1's multi_logloss: 1.03814\n",
      "[230]\tvalid_0's multi_error: 0.439431\tvalid_0's multi_logloss: 1.01711\tvalid_1's multi_error: 0.459098\tvalid_1's multi_logloss: 1.03802\n",
      "[231]\tvalid_0's multi_error: 0.43877\tvalid_0's multi_logloss: 1.01693\tvalid_1's multi_error: 0.458602\tvalid_1's multi_logloss: 1.038\n",
      "[232]\tvalid_0's multi_error: 0.43844\tvalid_0's multi_logloss: 1.01675\tvalid_1's multi_error: 0.459098\tvalid_1's multi_logloss: 1.03801\n",
      "[233]\tvalid_0's multi_error: 0.438936\tvalid_0's multi_logloss: 1.01655\tvalid_1's multi_error: 0.45761\tvalid_1's multi_logloss: 1.03796\n",
      "[234]\tvalid_0's multi_error: 0.438936\tvalid_0's multi_logloss: 1.01635\tvalid_1's multi_error: 0.45761\tvalid_1's multi_logloss: 1.03782\n",
      "[235]\tvalid_0's multi_error: 0.43844\tvalid_0's multi_logloss: 1.0162\tvalid_1's multi_error: 0.45761\tvalid_1's multi_logloss: 1.03775\n",
      "[236]\tvalid_0's multi_error: 0.43844\tvalid_0's multi_logloss: 1.01601\tvalid_1's multi_error: 0.45761\tvalid_1's multi_logloss: 1.03764\n",
      "[237]\tvalid_0's multi_error: 0.438109\tvalid_0's multi_logloss: 1.01583\tvalid_1's multi_error: 0.45761\tvalid_1's multi_logloss: 1.03769\n",
      "[238]\tvalid_0's multi_error: 0.437944\tvalid_0's multi_logloss: 1.01559\tvalid_1's multi_error: 0.459098\tvalid_1's multi_logloss: 1.03759\n",
      "[239]\tvalid_0's multi_error: 0.437614\tvalid_0's multi_logloss: 1.01536\tvalid_1's multi_error: 0.458602\tvalid_1's multi_logloss: 1.0375\n",
      "[240]\tvalid_0's multi_error: 0.437779\tvalid_0's multi_logloss: 1.01518\tvalid_1's multi_error: 0.459593\tvalid_1's multi_logloss: 1.03742\n",
      "[241]\tvalid_0's multi_error: 0.437283\tvalid_0's multi_logloss: 1.015\tvalid_1's multi_error: 0.460089\tvalid_1's multi_logloss: 1.03735\n",
      "[242]\tvalid_0's multi_error: 0.436787\tvalid_0's multi_logloss: 1.01477\tvalid_1's multi_error: 0.459593\tvalid_1's multi_logloss: 1.03724\n"
     ]
    },
    {
     "name": "stdout",
     "output_type": "stream",
     "text": [
      "[243]\tvalid_0's multi_error: 0.436787\tvalid_0's multi_logloss: 1.01458\tvalid_1's multi_error: 0.460089\tvalid_1's multi_logloss: 1.03711\n",
      "[244]\tvalid_0's multi_error: 0.436787\tvalid_0's multi_logloss: 1.0144\tvalid_1's multi_error: 0.460089\tvalid_1's multi_logloss: 1.03697\n",
      "[245]\tvalid_0's multi_error: 0.436787\tvalid_0's multi_logloss: 1.0142\tvalid_1's multi_error: 0.459098\tvalid_1's multi_logloss: 1.03686\n",
      "[246]\tvalid_0's multi_error: 0.436622\tvalid_0's multi_logloss: 1.01404\tvalid_1's multi_error: 0.459098\tvalid_1's multi_logloss: 1.03674\n",
      "[247]\tvalid_0's multi_error: 0.436126\tvalid_0's multi_logloss: 1.01389\tvalid_1's multi_error: 0.459098\tvalid_1's multi_logloss: 1.03666\n",
      "[248]\tvalid_0's multi_error: 0.436126\tvalid_0's multi_logloss: 1.01369\tvalid_1's multi_error: 0.459098\tvalid_1's multi_logloss: 1.03652\n",
      "[249]\tvalid_0's multi_error: 0.436292\tvalid_0's multi_logloss: 1.01352\tvalid_1's multi_error: 0.458602\tvalid_1's multi_logloss: 1.03653\n",
      "[250]\tvalid_0's multi_error: 0.436126\tvalid_0's multi_logloss: 1.01334\tvalid_1's multi_error: 0.458602\tvalid_1's multi_logloss: 1.03647\n",
      "[251]\tvalid_0's multi_error: 0.4353\tvalid_0's multi_logloss: 1.01317\tvalid_1's multi_error: 0.459593\tvalid_1's multi_logloss: 1.03639\n",
      "[252]\tvalid_0's multi_error: 0.435465\tvalid_0's multi_logloss: 1.013\tvalid_1's multi_error: 0.459098\tvalid_1's multi_logloss: 1.03634\n",
      "[253]\tvalid_0's multi_error: 0.435465\tvalid_0's multi_logloss: 1.01284\tvalid_1's multi_error: 0.459098\tvalid_1's multi_logloss: 1.03634\n",
      "[254]\tvalid_0's multi_error: 0.435465\tvalid_0's multi_logloss: 1.0127\tvalid_1's multi_error: 0.459098\tvalid_1's multi_logloss: 1.03631\n",
      "[255]\tvalid_0's multi_error: 0.434969\tvalid_0's multi_logloss: 1.0125\tvalid_1's multi_error: 0.459098\tvalid_1's multi_logloss: 1.03631\n",
      "[256]\tvalid_0's multi_error: 0.434804\tvalid_0's multi_logloss: 1.01236\tvalid_1's multi_error: 0.459593\tvalid_1's multi_logloss: 1.0363\n",
      "[257]\tvalid_0's multi_error: 0.435135\tvalid_0's multi_logloss: 1.01216\tvalid_1's multi_error: 0.459098\tvalid_1's multi_logloss: 1.03623\n",
      "[258]\tvalid_0's multi_error: 0.4353\tvalid_0's multi_logloss: 1.01201\tvalid_1's multi_error: 0.458106\tvalid_1's multi_logloss: 1.03622\n",
      "[259]\tvalid_0's multi_error: 0.435796\tvalid_0's multi_logloss: 1.01183\tvalid_1's multi_error: 0.459593\tvalid_1's multi_logloss: 1.03615\n",
      "[260]\tvalid_0's multi_error: 0.436126\tvalid_0's multi_logloss: 1.01167\tvalid_1's multi_error: 0.458602\tvalid_1's multi_logloss: 1.03603\n",
      "[261]\tvalid_0's multi_error: 0.436292\tvalid_0's multi_logloss: 1.01152\tvalid_1's multi_error: 0.459098\tvalid_1's multi_logloss: 1.03601\n",
      "[262]\tvalid_0's multi_error: 0.435961\tvalid_0's multi_logloss: 1.01136\tvalid_1's multi_error: 0.459098\tvalid_1's multi_logloss: 1.03594\n",
      "[263]\tvalid_0's multi_error: 0.435465\tvalid_0's multi_logloss: 1.01118\tvalid_1's multi_error: 0.458106\tvalid_1's multi_logloss: 1.03591\n",
      "[264]\tvalid_0's multi_error: 0.435465\tvalid_0's multi_logloss: 1.01103\tvalid_1's multi_error: 0.45761\tvalid_1's multi_logloss: 1.03589\n",
      "[265]\tvalid_0's multi_error: 0.434804\tvalid_0's multi_logloss: 1.01086\tvalid_1's multi_error: 0.458602\tvalid_1's multi_logloss: 1.03584\n",
      "[266]\tvalid_0's multi_error: 0.435465\tvalid_0's multi_logloss: 1.01067\tvalid_1's multi_error: 0.458602\tvalid_1's multi_logloss: 1.03571\n",
      "[267]\tvalid_0's multi_error: 0.434639\tvalid_0's multi_logloss: 1.01044\tvalid_1's multi_error: 0.45761\tvalid_1's multi_logloss: 1.03564\n",
      "[268]\tvalid_0's multi_error: 0.4353\tvalid_0's multi_logloss: 1.01031\tvalid_1's multi_error: 0.457115\tvalid_1's multi_logloss: 1.0356\n",
      "[269]\tvalid_0's multi_error: 0.43563\tvalid_0's multi_logloss: 1.01015\tvalid_1's multi_error: 0.456123\tvalid_1's multi_logloss: 1.0356\n",
      "[270]\tvalid_0's multi_error: 0.434639\tvalid_0's multi_logloss: 1.00994\tvalid_1's multi_error: 0.457115\tvalid_1's multi_logloss: 1.03556\n",
      "[271]\tvalid_0's multi_error: 0.434639\tvalid_0's multi_logloss: 1.00973\tvalid_1's multi_error: 0.456123\tvalid_1's multi_logloss: 1.03545\n",
      "[272]\tvalid_0's multi_error: 0.434639\tvalid_0's multi_logloss: 1.00954\tvalid_1's multi_error: 0.455131\tvalid_1's multi_logloss: 1.03539\n",
      "[273]\tvalid_0's multi_error: 0.434143\tvalid_0's multi_logloss: 1.00942\tvalid_1's multi_error: 0.455627\tvalid_1's multi_logloss: 1.03542\n",
      "[274]\tvalid_0's multi_error: 0.434308\tvalid_0's multi_logloss: 1.00925\tvalid_1's multi_error: 0.456123\tvalid_1's multi_logloss: 1.03536\n",
      "[275]\tvalid_0's multi_error: 0.434804\tvalid_0's multi_logloss: 1.00905\tvalid_1's multi_error: 0.456123\tvalid_1's multi_logloss: 1.03525\n",
      "[276]\tvalid_0's multi_error: 0.434639\tvalid_0's multi_logloss: 1.00888\tvalid_1's multi_error: 0.457115\tvalid_1's multi_logloss: 1.0352\n",
      "[277]\tvalid_0's multi_error: 0.434474\tvalid_0's multi_logloss: 1.00874\tvalid_1's multi_error: 0.455627\tvalid_1's multi_logloss: 1.03514\n",
      "[278]\tvalid_0's multi_error: 0.435135\tvalid_0's multi_logloss: 1.00861\tvalid_1's multi_error: 0.456123\tvalid_1's multi_logloss: 1.03508\n",
      "[279]\tvalid_0's multi_error: 0.434804\tvalid_0's multi_logloss: 1.00846\tvalid_1's multi_error: 0.456123\tvalid_1's multi_logloss: 1.03496\n",
      "[280]\tvalid_0's multi_error: 0.4353\tvalid_0's multi_logloss: 1.00832\tvalid_1's multi_error: 0.456123\tvalid_1's multi_logloss: 1.03492\n",
      "[281]\tvalid_0's multi_error: 0.434969\tvalid_0's multi_logloss: 1.00817\tvalid_1's multi_error: 0.456123\tvalid_1's multi_logloss: 1.03493\n",
      "[282]\tvalid_0's multi_error: 0.434969\tvalid_0's multi_logloss: 1.00801\tvalid_1's multi_error: 0.455627\tvalid_1's multi_logloss: 1.03489\n",
      "[283]\tvalid_0's multi_error: 0.435135\tvalid_0's multi_logloss: 1.00786\tvalid_1's multi_error: 0.456123\tvalid_1's multi_logloss: 1.03485\n",
      "[284]\tvalid_0's multi_error: 0.434804\tvalid_0's multi_logloss: 1.0077\tvalid_1's multi_error: 0.456619\tvalid_1's multi_logloss: 1.03482\n",
      "[285]\tvalid_0's multi_error: 0.434308\tvalid_0's multi_logloss: 1.00753\tvalid_1's multi_error: 0.456123\tvalid_1's multi_logloss: 1.03481\n",
      "[286]\tvalid_0's multi_error: 0.434474\tvalid_0's multi_logloss: 1.00736\tvalid_1's multi_error: 0.456123\tvalid_1's multi_logloss: 1.03477\n",
      "[287]\tvalid_0's multi_error: 0.433647\tvalid_0's multi_logloss: 1.0072\tvalid_1's multi_error: 0.456619\tvalid_1's multi_logloss: 1.03471\n",
      "[288]\tvalid_0's multi_error: 0.433813\tvalid_0's multi_logloss: 1.00707\tvalid_1's multi_error: 0.456619\tvalid_1's multi_logloss: 1.03474\n",
      "[289]\tvalid_0's multi_error: 0.433978\tvalid_0's multi_logloss: 1.00695\tvalid_1's multi_error: 0.455627\tvalid_1's multi_logloss: 1.03467\n",
      "[290]\tvalid_0's multi_error: 0.433647\tvalid_0's multi_logloss: 1.00682\tvalid_1's multi_error: 0.456123\tvalid_1's multi_logloss: 1.03467\n",
      "[291]\tvalid_0's multi_error: 0.433647\tvalid_0's multi_logloss: 1.00669\tvalid_1's multi_error: 0.456123\tvalid_1's multi_logloss: 1.03465\n",
      "[292]\tvalid_0's multi_error: 0.434143\tvalid_0's multi_logloss: 1.00651\tvalid_1's multi_error: 0.455627\tvalid_1's multi_logloss: 1.03456\n",
      "[293]\tvalid_0's multi_error: 0.434308\tvalid_0's multi_logloss: 1.00637\tvalid_1's multi_error: 0.455627\tvalid_1's multi_logloss: 1.03449\n",
      "[294]\tvalid_0's multi_error: 0.433813\tvalid_0's multi_logloss: 1.00622\tvalid_1's multi_error: 0.455627\tvalid_1's multi_logloss: 1.03443\n",
      "[295]\tvalid_0's multi_error: 0.433978\tvalid_0's multi_logloss: 1.00605\tvalid_1's multi_error: 0.454636\tvalid_1's multi_logloss: 1.0343\n",
      "[296]\tvalid_0's multi_error: 0.433813\tvalid_0's multi_logloss: 1.00586\tvalid_1's multi_error: 0.454636\tvalid_1's multi_logloss: 1.03426\n",
      "[297]\tvalid_0's multi_error: 0.432821\tvalid_0's multi_logloss: 1.00569\tvalid_1's multi_error: 0.454636\tvalid_1's multi_logloss: 1.03422\n",
      "[298]\tvalid_0's multi_error: 0.433152\tvalid_0's multi_logloss: 1.00552\tvalid_1's multi_error: 0.455131\tvalid_1's multi_logloss: 1.03416\n",
      "[299]\tvalid_0's multi_error: 0.433152\tvalid_0's multi_logloss: 1.00536\tvalid_1's multi_error: 0.454636\tvalid_1's multi_logloss: 1.03411\n",
      "[300]\tvalid_0's multi_error: 0.433152\tvalid_0's multi_logloss: 1.00519\tvalid_1's multi_error: 0.453644\tvalid_1's multi_logloss: 1.03409\n",
      "[301]\tvalid_0's multi_error: 0.431995\tvalid_0's multi_logloss: 1.00502\tvalid_1's multi_error: 0.456123\tvalid_1's multi_logloss: 1.03405\n",
      "[302]\tvalid_0's multi_error: 0.43249\tvalid_0's multi_logloss: 1.00487\tvalid_1's multi_error: 0.453644\tvalid_1's multi_logloss: 1.034\n",
      "[303]\tvalid_0's multi_error: 0.43249\tvalid_0's multi_logloss: 1.00472\tvalid_1's multi_error: 0.45414\tvalid_1's multi_logloss: 1.03394\n",
      "[304]\tvalid_0's multi_error: 0.432821\tvalid_0's multi_logloss: 1.0046\tvalid_1's multi_error: 0.45414\tvalid_1's multi_logloss: 1.03383\n",
      "[305]\tvalid_0's multi_error: 0.432656\tvalid_0's multi_logloss: 1.00447\tvalid_1's multi_error: 0.45414\tvalid_1's multi_logloss: 1.03383\n",
      "[306]\tvalid_0's multi_error: 0.432325\tvalid_0's multi_logloss: 1.00434\tvalid_1's multi_error: 0.45414\tvalid_1's multi_logloss: 1.03382\n",
      "[307]\tvalid_0's multi_error: 0.43216\tvalid_0's multi_logloss: 1.0042\tvalid_1's multi_error: 0.45414\tvalid_1's multi_logloss: 1.03384\n",
      "[308]\tvalid_0's multi_error: 0.431995\tvalid_0's multi_logloss: 1.00408\tvalid_1's multi_error: 0.453148\tvalid_1's multi_logloss: 1.03375\n",
      "[309]\tvalid_0's multi_error: 0.43249\tvalid_0's multi_logloss: 1.00393\tvalid_1's multi_error: 0.45414\tvalid_1's multi_logloss: 1.0337\n",
      "[310]\tvalid_0's multi_error: 0.431995\tvalid_0's multi_logloss: 1.00383\tvalid_1's multi_error: 0.45414\tvalid_1's multi_logloss: 1.03371\n",
      "[311]\tvalid_0's multi_error: 0.431499\tvalid_0's multi_logloss: 1.00365\tvalid_1's multi_error: 0.453148\tvalid_1's multi_logloss: 1.03365\n",
      "[312]\tvalid_0's multi_error: 0.431334\tvalid_0's multi_logloss: 1.00355\tvalid_1's multi_error: 0.453644\tvalid_1's multi_logloss: 1.03363\n",
      "[313]\tvalid_0's multi_error: 0.431334\tvalid_0's multi_logloss: 1.00343\tvalid_1's multi_error: 0.453644\tvalid_1's multi_logloss: 1.03364\n",
      "[314]\tvalid_0's multi_error: 0.431829\tvalid_0's multi_logloss: 1.0033\tvalid_1's multi_error: 0.453644\tvalid_1's multi_logloss: 1.03366\n",
      "[315]\tvalid_0's multi_error: 0.43216\tvalid_0's multi_logloss: 1.00318\tvalid_1's multi_error: 0.453644\tvalid_1's multi_logloss: 1.03365\n",
      "[316]\tvalid_0's multi_error: 0.431829\tvalid_0's multi_logloss: 1.00307\tvalid_1's multi_error: 0.453644\tvalid_1's multi_logloss: 1.03364\n",
      "[317]\tvalid_0's multi_error: 0.431829\tvalid_0's multi_logloss: 1.00293\tvalid_1's multi_error: 0.453644\tvalid_1's multi_logloss: 1.03358\n",
      "[318]\tvalid_0's multi_error: 0.431499\tvalid_0's multi_logloss: 1.0028\tvalid_1's multi_error: 0.453148\tvalid_1's multi_logloss: 1.03355\n",
      "[319]\tvalid_0's multi_error: 0.431499\tvalid_0's multi_logloss: 1.00268\tvalid_1's multi_error: 0.453148\tvalid_1's multi_logloss: 1.0335\n",
      "[320]\tvalid_0's multi_error: 0.431664\tvalid_0's multi_logloss: 1.00252\tvalid_1's multi_error: 0.453644\tvalid_1's multi_logloss: 1.03349\n",
      "[321]\tvalid_0's multi_error: 0.431499\tvalid_0's multi_logloss: 1.00241\tvalid_1's multi_error: 0.452652\tvalid_1's multi_logloss: 1.03347\n",
      "[322]\tvalid_0's multi_error: 0.431664\tvalid_0's multi_logloss: 1.0023\tvalid_1's multi_error: 0.454636\tvalid_1's multi_logloss: 1.03348\n",
      "[323]\tvalid_0's multi_error: 0.431334\tvalid_0's multi_logloss: 1.00215\tvalid_1's multi_error: 0.45414\tvalid_1's multi_logloss: 1.03336\n"
     ]
    },
    {
     "name": "stdout",
     "output_type": "stream",
     "text": [
      "[324]\tvalid_0's multi_error: 0.431664\tvalid_0's multi_logloss: 1.00201\tvalid_1's multi_error: 0.453644\tvalid_1's multi_logloss: 1.03331\n",
      "[325]\tvalid_0's multi_error: 0.431499\tvalid_0's multi_logloss: 1.0019\tvalid_1's multi_error: 0.453644\tvalid_1's multi_logloss: 1.03329\n",
      "[326]\tvalid_0's multi_error: 0.431664\tvalid_0's multi_logloss: 1.00175\tvalid_1's multi_error: 0.454636\tvalid_1's multi_logloss: 1.03328\n",
      "[327]\tvalid_0's multi_error: 0.431168\tvalid_0's multi_logloss: 1.00165\tvalid_1's multi_error: 0.454636\tvalid_1's multi_logloss: 1.03324\n",
      "[328]\tvalid_0's multi_error: 0.431003\tvalid_0's multi_logloss: 1.00149\tvalid_1's multi_error: 0.453644\tvalid_1's multi_logloss: 1.03317\n",
      "[329]\tvalid_0's multi_error: 0.430838\tvalid_0's multi_logloss: 1.00136\tvalid_1's multi_error: 0.453148\tvalid_1's multi_logloss: 1.03318\n",
      "[330]\tvalid_0's multi_error: 0.430838\tvalid_0's multi_logloss: 1.00125\tvalid_1's multi_error: 0.453644\tvalid_1's multi_logloss: 1.03316\n",
      "[331]\tvalid_0's multi_error: 0.431003\tvalid_0's multi_logloss: 1.0011\tvalid_1's multi_error: 0.453644\tvalid_1's multi_logloss: 1.03316\n",
      "[332]\tvalid_0's multi_error: 0.430507\tvalid_0's multi_logloss: 1.00097\tvalid_1's multi_error: 0.453644\tvalid_1's multi_logloss: 1.03315\n",
      "[333]\tvalid_0's multi_error: 0.430342\tvalid_0's multi_logloss: 1.00084\tvalid_1's multi_error: 0.454636\tvalid_1's multi_logloss: 1.03313\n",
      "[334]\tvalid_0's multi_error: 0.430673\tvalid_0's multi_logloss: 1.00064\tvalid_1's multi_error: 0.45414\tvalid_1's multi_logloss: 1.03308\n",
      "[335]\tvalid_0's multi_error: 0.430673\tvalid_0's multi_logloss: 1.0005\tvalid_1's multi_error: 0.453644\tvalid_1's multi_logloss: 1.03305\n",
      "[336]\tvalid_0's multi_error: 0.430838\tvalid_0's multi_logloss: 1.00039\tvalid_1's multi_error: 0.453148\tvalid_1's multi_logloss: 1.03301\n",
      "[337]\tvalid_0's multi_error: 0.430673\tvalid_0's multi_logloss: 1.00023\tvalid_1's multi_error: 0.453644\tvalid_1's multi_logloss: 1.03297\n",
      "[338]\tvalid_0's multi_error: 0.431003\tvalid_0's multi_logloss: 1.00012\tvalid_1's multi_error: 0.453148\tvalid_1's multi_logloss: 1.03298\n",
      "[339]\tvalid_0's multi_error: 0.430342\tvalid_0's multi_logloss: 0.999994\tvalid_1's multi_error: 0.452652\tvalid_1's multi_logloss: 1.03296\n",
      "[340]\tvalid_0's multi_error: 0.431003\tvalid_0's multi_logloss: 0.999889\tvalid_1's multi_error: 0.453148\tvalid_1's multi_logloss: 1.03298\n",
      "[341]\tvalid_0's multi_error: 0.430838\tvalid_0's multi_logloss: 0.999799\tvalid_1's multi_error: 0.453148\tvalid_1's multi_logloss: 1.03291\n",
      "[342]\tvalid_0's multi_error: 0.430507\tvalid_0's multi_logloss: 0.999707\tvalid_1's multi_error: 0.453644\tvalid_1's multi_logloss: 1.03294\n",
      "[343]\tvalid_0's multi_error: 0.431003\tvalid_0's multi_logloss: 0.99958\tvalid_1's multi_error: 0.453148\tvalid_1's multi_logloss: 1.03291\n",
      "[344]\tvalid_0's multi_error: 0.430673\tvalid_0's multi_logloss: 0.999444\tvalid_1's multi_error: 0.453148\tvalid_1's multi_logloss: 1.03291\n",
      "[345]\tvalid_0's multi_error: 0.430177\tvalid_0's multi_logloss: 0.99932\tvalid_1's multi_error: 0.452652\tvalid_1's multi_logloss: 1.0329\n",
      "[346]\tvalid_0's multi_error: 0.430342\tvalid_0's multi_logloss: 0.999212\tvalid_1's multi_error: 0.451661\tvalid_1's multi_logloss: 1.03291\n",
      "[347]\tvalid_0's multi_error: 0.430507\tvalid_0's multi_logloss: 0.999082\tvalid_1's multi_error: 0.452157\tvalid_1's multi_logloss: 1.0329\n",
      "[348]\tvalid_0's multi_error: 0.430507\tvalid_0's multi_logloss: 0.998956\tvalid_1's multi_error: 0.452157\tvalid_1's multi_logloss: 1.03288\n",
      "[349]\tvalid_0's multi_error: 0.430673\tvalid_0's multi_logloss: 0.998799\tvalid_1's multi_error: 0.452157\tvalid_1's multi_logloss: 1.03289\n",
      "[350]\tvalid_0's multi_error: 0.430342\tvalid_0's multi_logloss: 0.998672\tvalid_1's multi_error: 0.451661\tvalid_1's multi_logloss: 1.03292\n",
      "[351]\tvalid_0's multi_error: 0.430177\tvalid_0's multi_logloss: 0.998554\tvalid_1's multi_error: 0.451661\tvalid_1's multi_logloss: 1.03288\n",
      "[352]\tvalid_0's multi_error: 0.430838\tvalid_0's multi_logloss: 0.998418\tvalid_1's multi_error: 0.451661\tvalid_1's multi_logloss: 1.03288\n",
      "[353]\tvalid_0's multi_error: 0.430673\tvalid_0's multi_logloss: 0.99831\tvalid_1's multi_error: 0.451165\tvalid_1's multi_logloss: 1.03288\n",
      "[354]\tvalid_0's multi_error: 0.430507\tvalid_0's multi_logloss: 0.99823\tvalid_1's multi_error: 0.451165\tvalid_1's multi_logloss: 1.03289\n",
      "[355]\tvalid_0's multi_error: 0.430177\tvalid_0's multi_logloss: 0.998134\tvalid_1's multi_error: 0.451165\tvalid_1's multi_logloss: 1.03295\n",
      "[356]\tvalid_0's multi_error: 0.430507\tvalid_0's multi_logloss: 0.998046\tvalid_1's multi_error: 0.451661\tvalid_1's multi_logloss: 1.03293\n",
      "[357]\tvalid_0's multi_error: 0.430507\tvalid_0's multi_logloss: 0.997962\tvalid_1's multi_error: 0.452157\tvalid_1's multi_logloss: 1.03291\n",
      "[358]\tvalid_0's multi_error: 0.430342\tvalid_0's multi_logloss: 0.997851\tvalid_1's multi_error: 0.451661\tvalid_1's multi_logloss: 1.03294\n",
      "[359]\tvalid_0's multi_error: 0.430012\tvalid_0's multi_logloss: 0.997745\tvalid_1's multi_error: 0.452157\tvalid_1's multi_logloss: 1.03297\n",
      "[360]\tvalid_0's multi_error: 0.430838\tvalid_0's multi_logloss: 0.997657\tvalid_1's multi_error: 0.452652\tvalid_1's multi_logloss: 1.03302\n",
      "[361]\tvalid_0's multi_error: 0.430507\tvalid_0's multi_logloss: 0.997566\tvalid_1's multi_error: 0.453644\tvalid_1's multi_logloss: 1.03299\n",
      "[362]\tvalid_0's multi_error: 0.430342\tvalid_0's multi_logloss: 0.997459\tvalid_1's multi_error: 0.453148\tvalid_1's multi_logloss: 1.03296\n",
      "[363]\tvalid_0's multi_error: 0.429846\tvalid_0's multi_logloss: 0.997359\tvalid_1's multi_error: 0.453148\tvalid_1's multi_logloss: 1.03293\n",
      "[364]\tvalid_0's multi_error: 0.429185\tvalid_0's multi_logloss: 0.99724\tvalid_1's multi_error: 0.45414\tvalid_1's multi_logloss: 1.03295\n",
      "[365]\tvalid_0's multi_error: 0.42902\tvalid_0's multi_logloss: 0.99712\tvalid_1's multi_error: 0.453644\tvalid_1's multi_logloss: 1.03293\n",
      "[366]\tvalid_0's multi_error: 0.429516\tvalid_0's multi_logloss: 0.997021\tvalid_1's multi_error: 0.453148\tvalid_1's multi_logloss: 1.03296\n",
      "[367]\tvalid_0's multi_error: 0.429681\tvalid_0's multi_logloss: 0.996914\tvalid_1's multi_error: 0.453644\tvalid_1's multi_logloss: 1.03295\n",
      "[368]\tvalid_0's multi_error: 0.429846\tvalid_0's multi_logloss: 0.996813\tvalid_1's multi_error: 0.45414\tvalid_1's multi_logloss: 1.03292\n",
      "[369]\tvalid_0's multi_error: 0.429351\tvalid_0's multi_logloss: 0.996711\tvalid_1's multi_error: 0.45414\tvalid_1's multi_logloss: 1.03298\n",
      "[370]\tvalid_0's multi_error: 0.429351\tvalid_0's multi_logloss: 0.996599\tvalid_1's multi_error: 0.453644\tvalid_1's multi_logloss: 1.03297\n",
      "[371]\tvalid_0's multi_error: 0.429351\tvalid_0's multi_logloss: 0.996509\tvalid_1's multi_error: 0.453148\tvalid_1's multi_logloss: 1.03299\n",
      "[372]\tvalid_0's multi_error: 0.42902\tvalid_0's multi_logloss: 0.996418\tvalid_1's multi_error: 0.453644\tvalid_1's multi_logloss: 1.03298\n",
      "[373]\tvalid_0's multi_error: 0.429351\tvalid_0's multi_logloss: 0.996317\tvalid_1's multi_error: 0.453644\tvalid_1's multi_logloss: 1.03295\n",
      "[374]\tvalid_0's multi_error: 0.429516\tvalid_0's multi_logloss: 0.99623\tvalid_1's multi_error: 0.453148\tvalid_1's multi_logloss: 1.03299\n",
      "[375]\tvalid_0's multi_error: 0.429681\tvalid_0's multi_logloss: 0.996147\tvalid_1's multi_error: 0.452652\tvalid_1's multi_logloss: 1.03299\n",
      "[376]\tvalid_0's multi_error: 0.429351\tvalid_0's multi_logloss: 0.996018\tvalid_1's multi_error: 0.452652\tvalid_1's multi_logloss: 1.03293\n",
      "Did not meet early stopping. Best iteration is:\n",
      "[365]\tvalid_0's multi_error: 0.42902\tvalid_0's multi_logloss: 0.99712\tvalid_1's multi_error: 0.453644\tvalid_1's multi_logloss: 1.03293\n"
     ]
    }
   ],
   "source": [
    "clf = lgb.LGBMClassifier(**params)\n",
    "    \n",
    "clf.fit(df_train[feature_cols], df_train[label_col], early_stopping_rounds=400, eval_set=[(df_train[feature_cols], df_train[label_col]), (df_eval[feature_cols], df_eval[label_col])], eval_metric='multi_error', verbose=True, categorical_feature='')\n",
    "\n",
    "eval_score = accuracy_score(df_eval[label_col], clf.predict(df_eval[feature_cols]))"
   ]
  },
  {
   "cell_type": "code",
   "execution_count": 48,
   "metadata": {},
   "outputs": [
    {
     "name": "stdout",
     "output_type": "stream",
     "text": [
      "Eval ACC: 0.5463559742191373\n"
     ]
    }
   ],
   "source": [
    "print('Eval ACC: {}'.format(eval_score))"
   ]
  },
  {
   "cell_type": "markdown",
   "metadata": {},
   "source": [
    "## Train Model on Full Data"
   ]
  },
  {
   "cell_type": "code",
   "execution_count": 49,
   "metadata": {},
   "outputs": [],
   "source": [
    "df_train = pd.concat((df_train, df_eval))"
   ]
  },
  {
   "cell_type": "code",
   "execution_count": 50,
   "metadata": {},
   "outputs": [
    {
     "name": "stdout",
     "output_type": "stream",
     "text": [
      "ACC: 0.5707734258800198\n"
     ]
    }
   ],
   "source": [
    "clf = lgb.LGBMClassifier(**params)\n",
    "\n",
    "clf.fit(df_train[feature_cols], df_train[label_col], eval_metric='multi_error', verbose=False, categorical_feature='')\n",
    "\n",
    "eval_score_acc = accuracy_score(df_train[label_col], clf.predict(df_train[feature_cols]))\n",
    "\n",
    "print('ACC: {}'.format(eval_score_acc))"
   ]
  },
  {
   "cell_type": "markdown",
   "metadata": {},
   "source": [
    "## Predictions"
   ]
  },
  {
   "cell_type": "code",
   "execution_count": 51,
   "metadata": {},
   "outputs": [],
   "source": [
    "preds = clf.predict(df_test[feature_cols]).astype('int')\n",
    "preds = label_encoders[label_col].inverse_transform(preds)"
   ]
  },
  {
   "cell_type": "code",
   "execution_count": 52,
   "metadata": {},
   "outputs": [
    {
     "data": {
      "text/plain": [
       "Counter({'A': 101, 'D': 104, 'B': 40, 'C': 50})"
      ]
     },
     "execution_count": 52,
     "metadata": {},
     "output_type": "execute_result"
    }
   ],
   "source": [
    "Counter(preds)"
   ]
  },
  {
   "cell_type": "code",
   "execution_count": 53,
   "metadata": {},
   "outputs": [],
   "source": [
    "submission = pd.DataFrame({'ID':df_test['ID'], 'Segmentation':preds})\n",
    "submission = pd.concat((submission, df_test_common[['ID', 'Segmentation']]))\n",
    "submission = submission.sort_values('ID')"
   ]
  },
  {
   "cell_type": "code",
   "execution_count": 54,
   "metadata": {},
   "outputs": [
    {
     "data": {
      "text/plain": [
       "(2627, 2)"
      ]
     },
     "execution_count": 54,
     "metadata": {},
     "output_type": "execute_result"
    }
   ],
   "source": [
    "submission.shape"
   ]
  },
  {
   "cell_type": "code",
   "execution_count": 55,
   "metadata": {},
   "outputs": [],
   "source": [
    "submission.to_csv('lgb_baseline.csv', index=None)"
   ]
  },
  {
   "cell_type": "markdown",
   "metadata": {},
   "source": [
    "## Feature Importance"
   ]
  },
  {
   "cell_type": "code",
   "execution_count": 56,
   "metadata": {},
   "outputs": [
    {
     "data": {
      "image/png": "[encoded data removed]",
      "text/plain": [
       "<Figure size 864x1008 with 1 Axes>"
      ]
     },
     "metadata": {
      "needs_background": "light"
     },
     "output_type": "display_data"
    }
   ],
   "source": [
    "plt.rcParams['figure.figsize'] = (12, 14)\n",
    "lgb.plot_importance(clf)\n",
    "plt.show()"
   ]
  },
  {
   "cell_type": "code",
   "execution_count": null,
   "metadata": {},
   "outputs": [],
   "source": []
  },
  {
   "cell_type": "markdown",
   "metadata": {},
   "source": [
    "## Adding Few more Iterations Improved the Public LB Score - can cause overfitting on Public LB Score"
   ]
  },
  {
   "cell_type": "code",
   "execution_count": 57,
   "metadata": {},
   "outputs": [
    {
     "name": "stdout",
     "output_type": "stream",
     "text": [
      "{'learning_rate': 0.05, 'max_depth': 3, 'min_data_in_leaf': 19, 'n_estimators': 432, 'reg_alpha': 1.05, 'reg_lambda': 2.53, 'objective': 'multiclass', 'boosting_type': 'gbdt', 'subsample': 0.7, 'random_state': 42, 'colsample_bytree': 0.7, 'class_weight': {0: 0.38, 1: 0.29, 2: 0.27, 3: 0.34}}\n"
     ]
    }
   ],
   "source": [
    "params = {\n",
    "    'learning_rate': 0.05, \n",
    "    'max_depth': 3, \n",
    "    'min_data_in_leaf': 19, \n",
    "    'n_estimators': 432, \n",
    "    'reg_alpha': 1.05, \n",
    "    'reg_lambda': 2.53,\n",
    "    'objective': 'multiclass', \n",
    "    'boosting_type': 'gbdt', \n",
    "    'subsample': 0.7, \n",
    "    'random_state': 42, \n",
    "    'colsample_bytree': 0.7, \n",
    "    'class_weight': {0: 0.38, 1: 0.29, 2: 0.27, 3: 0.34}\n",
    "}\n",
    "\n",
    "print(params)"
   ]
  },
  {
   "cell_type": "code",
   "execution_count": 58,
   "metadata": {},
   "outputs": [
    {
     "name": "stdout",
     "output_type": "stream",
     "text": [
      "ACC: 0.5736241943480417\n"
     ]
    }
   ],
   "source": [
    "clf = lgb.LGBMClassifier(**params)\n",
    "\n",
    "clf.fit(df_train[feature_cols], df_train[label_col], eval_metric='multi_error', verbose=False, categorical_feature='')\n",
    "eval_score_acc = accuracy_score(df_train[label_col], clf.predict(df_train[feature_cols]))\n",
    "\n",
    "print('ACC: {}'.format(eval_score_acc))"
   ]
  },
  {
   "cell_type": "code",
   "execution_count": 59,
   "metadata": {},
   "outputs": [],
   "source": [
    "preds = clf.predict(df_test[feature_cols]).astype('int')\n",
    "preds = label_encoders[label_col].inverse_transform(preds)"
   ]
  },
  {
   "cell_type": "code",
   "execution_count": 60,
   "metadata": {},
   "outputs": [
    {
     "data": {
      "text/plain": [
       "Counter({'A': 99, 'D': 103, 'B': 43, 'C': 50})"
      ]
     },
     "execution_count": 60,
     "metadata": {},
     "output_type": "execute_result"
    }
   ],
   "source": [
    "Counter(preds)"
   ]
  },
  {
   "cell_type": "code",
   "execution_count": 61,
   "metadata": {},
   "outputs": [],
   "source": [
    "submission = pd.DataFrame({'ID':df_test['ID'], 'Segmentation':preds})\n",
    "submission = pd.concat((submission, df_test_common[['ID', 'Segmentation']]))\n",
    "submission = submission.sort_values('ID')\n",
    "submission.to_csv('lgb_final_submission.csv', index=None)"
   ]
  },
  {
   "cell_type": "code",
   "execution_count": null,
   "metadata": {},
   "outputs": [],
   "source": []
  },
  {
   "cell_type": "code",
   "execution_count": null,
   "metadata": {},
   "outputs": [],
   "source": []
  }
 ],
 "metadata": {
  "kernelspec": {
   "display_name": "Python 3",
   "language": "python",
   "name": "python3"
  },
  "language_info": {
   "codemirror_mode": {
    "name": "ipython",
    "version": 3
   },
   "file_extension": ".py",
   "mimetype": "text/x-python",
   "name": "python",
   "nbconvert_exporter": "python",
   "pygments_lexer": "ipython3",
   "version": "3.7.6"
  }
 },
 "nbformat": 4,
 "nbformat_minor": 4
}
